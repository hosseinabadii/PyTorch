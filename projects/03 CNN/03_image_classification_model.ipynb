{
  "cells": [
    {
      "cell_type": "markdown",
      "metadata": {
        "id": "nVHGD1znwW9c"
      },
      "source": [
        "# PyTorch Computer Vision"
      ]
    },
    {
      "cell_type": "markdown",
      "metadata": {
        "id": "CM0O6thvwW9e"
      },
      "source": [
        "## 1. Import Libraries"
      ]
    },
    {
      "cell_type": "code",
      "execution_count": 5,
      "metadata": {
        "colab": {
          "base_uri": "https://localhost:8080/"
        },
        "id": "QsHoW559wuZo",
        "outputId": "36ef7157-988c-4af9-ff89-fab69cb42ad7"
      },
      "outputs": [
        {
          "name": "stdout",
          "output_type": "stream",
          "text": [
            "Requirement already satisfied: torcheval in /usr/local/lib/python3.10/dist-packages (0.0.7)\n",
            "Requirement already satisfied: torchinfo in /usr/local/lib/python3.10/dist-packages (1.8.0)\n",
            "Requirement already satisfied: typing-extensions in /usr/local/lib/python3.10/dist-packages (from torcheval) (4.9.0)\n"
          ]
        }
      ],
      "source": [
        "# !pip install torcheval torchinfo"
      ]
    },
    {
      "cell_type": "code",
      "execution_count": 1,
      "metadata": {
        "colab": {
          "base_uri": "https://localhost:8080/"
        },
        "id": "ui7gQhmYwW9f",
        "outputId": "72cebbb9-de21-44bd-80b8-8dc2bfe18e4c"
      },
      "outputs": [
        {
          "name": "stdout",
          "output_type": "stream",
          "text": [
            "torch: 2.1.0+cu121\n",
            "torchvision: 0.16.0+cu121\n",
            "device: cuda\n"
          ]
        }
      ],
      "source": [
        "import matplotlib.pyplot as plt\n",
        "import pandas as pd\n",
        "import torch\n",
        "import torch.nn as nn\n",
        "import torchvision\n",
        "from mlxtend.plotting import plot_confusion_matrix\n",
        "from torch.utils.data import DataLoader\n",
        "from torcheval.metrics.functional import (\n",
        "    multiclass_accuracy,\n",
        "    multiclass_confusion_matrix,\n",
        ")\n",
        "from torchinfo import summary\n",
        "from torchvision import datasets, transforms\n",
        "\n",
        "import engine\n",
        "import utils\n",
        "\n",
        "print(\"torch:\", torch.__version__)\n",
        "print(\"torchvision:\", torchvision.__version__)\n",
        "\n",
        "device = \"cuda\" if torch.cuda.is_available() else \"cpu\"\n",
        "print(f\"device: {device}\")\n",
        "\n",
        "RAMDOM_SEED = 42\n",
        "\n",
        "%load_ext autoreload\n",
        "%autoreload 2"
      ]
    },
    {
      "cell_type": "markdown",
      "metadata": {
        "id": "uCYToEoKwW9h"
      },
      "source": [
        "## 2. Get Dataset"
      ]
    },
    {
      "cell_type": "markdown",
      "metadata": {
        "id": "gC1Q4lXIwW9i"
      },
      "source": [
        "### 2.1 Loading FashionMNIST dataset"
      ]
    },
    {
      "cell_type": "code",
      "execution_count": 2,
      "metadata": {
        "id": "OJ8eit09wW9i"
      },
      "outputs": [],
      "source": [
        "train_data = datasets.FashionMNIST(\n",
        "    root=\"data\",\n",
        "    train=True,\n",
        "    download=True,\n",
        "    transform=transforms.ToTensor(),\n",
        ")\n",
        "\n",
        "test_data = datasets.FashionMNIST(\n",
        "    root=\"data\",\n",
        "    train=False,\n",
        "    download=True,\n",
        "    transform=transforms.ToTensor(),\n",
        ")"
      ]
    },
    {
      "cell_type": "code",
      "execution_count": 3,
      "metadata": {
        "colab": {
          "base_uri": "https://localhost:8080/"
        },
        "id": "6bALBS8-wW9i",
        "outputId": "dfd23fad-7ba2-4441-faf6-6884f1256728"
      },
      "outputs": [
        {
          "name": "stdout",
          "output_type": "stream",
          "text": [
            "train data: 60000\n",
            "test data : 10000\n",
            "number of classes: 10\n",
            "\n",
            "class names:\n",
            "['T-shirt/top', 'Trouser', 'Pullover', 'Dress', 'Coat', 'Sandal', 'Shirt', 'Sneaker', 'Bag', 'Ankle boot']\n",
            "\n",
            "class to index:\n",
            "{'T-shirt/top': 0, 'Trouser': 1, 'Pullover': 2, 'Dress': 3, 'Coat': 4, 'Sandal': 5, 'Shirt': 6, 'Sneaker': 7, 'Bag': 8, 'Ankle boot': 9}\n",
            "\n",
            "targets:\n",
            "tensor([9, 0, 0,  ..., 3, 0, 5])\n",
            "\n",
            "image shape:\n",
            "torch.Size([1, 28, 28]) -> [color_channels, height, width]\n",
            "\n",
            "image :\n",
            "9\n",
            "\n",
            "image label:\n",
            "Ankle boot\n"
          ]
        }
      ],
      "source": [
        "print(f\"train data: {len(train_data)}\")\n",
        "print(f\"test data : {len(test_data)}\")\n",
        "\n",
        "class_names = train_data.classes\n",
        "NUM_CLASSES = len(class_names)\n",
        "print(f\"number of classes: {NUM_CLASSES}\")\n",
        "print(f\"\\nclass names:\\n{class_names}\")\n",
        "\n",
        "class_to_idx = train_data.class_to_idx\n",
        "print(f\"\\nclass to index:\\n{class_to_idx}\")\n",
        "\n",
        "targets = train_data.targets\n",
        "print(f\"\\ntargets:\\n{targets}\")\n",
        "\n",
        "image, label = train_data[0]\n",
        "INPUT_IMAGE_SIZE = image.shape\n",
        "print(f\"\\nimage shape:\\n{INPUT_IMAGE_SIZE} -> [color_channels, height, width]\")\n",
        "print(f\"\\nimage :\\n{label}\")\n",
        "print(f\"\\nimage label:\\n{class_names[label]}\")"
      ]
    },
    {
      "cell_type": "markdown",
      "metadata": {
        "id": "a4gfq-9zwW9j"
      },
      "source": [
        "### 2.2 Visualizing our data"
      ]
    },
    {
      "cell_type": "code",
      "execution_count": 4,
      "metadata": {
        "colab": {
          "base_uri": "https://localhost:8080/",
          "height": 661
        },
        "id": "ImV-M00ZwW9j",
        "outputId": "f77ffc67-1e01-49e2-cb69-27d7e5240710"
      },
      "outputs": [
        {
          "data": {
            "image/png": "[encoded data removed]",
            "text/plain": [
              "<Figure size 900x900 with 16 Axes>"
            ]
          },
          "metadata": {},
          "output_type": "display_data"
        }
      ],
      "source": [
        "torch.manual_seed(RAMDOM_SEED)\n",
        "\n",
        "fig = plt.figure(figsize=(9, 9))\n",
        "rows, cols = 4, 4\n",
        "for i in range(1, rows * cols + 1):\n",
        "    random_idx = torch.randint(0, len(train_data), size=[1]).item()\n",
        "    img, label = train_data[random_idx]\n",
        "    fig.add_subplot(rows, cols, i)\n",
        "    plt.imshow(img.squeeze(), cmap=\"gray\")\n",
        "    plt.title(class_names[label])\n",
        "    plt.axis(False);"
      ]
    },
    {
      "cell_type": "markdown",
      "metadata": {
        "id": "r741b3BswW9k"
      },
      "source": [
        "## 3. Prepare DataLoader\n",
        "\n",
        "These smaller chunks are called batches or mini-batches and can be set by the batch_size parameter."
      ]
    },
    {
      "cell_type": "code",
      "execution_count": 5,
      "metadata": {
        "colab": {
          "base_uri": "https://localhost:8080/"
        },
        "id": "bI3McwAmwW9k",
        "outputId": "149b8df0-f337-46d6-f033-432a9b188d07"
      },
      "outputs": [
        {
          "name": "stdout",
          "output_type": "stream",
          "text": [
            "train dataloader: <torch.utils.data.dataloader.DataLoader object at 0x7b08bb51a8c0>\n",
            "test Dataloader : <torch.utils.data.dataloader.DataLoader object at 0x7b08bb51ac20>\n",
            "length of train dataloader: 1875 batches of 32 (60000)\n",
            "length of test dataloader : 313 batches of 32 (10016)\n"
          ]
        }
      ],
      "source": [
        "BATCH_SIZE = 32\n",
        "\n",
        "train_dataloader = DataLoader(train_data, batch_size=BATCH_SIZE, shuffle=True)\n",
        "test_dataloader = DataLoader(test_data, batch_size=BATCH_SIZE, shuffle=False)\n",
        "\n",
        "print(f\"train dataloader: {train_dataloader}\")\n",
        "print(f\"test Dataloader : {test_dataloader}\")\n",
        "print(f\"length of train dataloader: {len(train_dataloader)} batches of {BATCH_SIZE} ({len(train_dataloader)*BATCH_SIZE})\")\n",
        "print(f\"length of test dataloader : {len(test_dataloader)} batches of {BATCH_SIZE} ({len(test_dataloader)*BATCH_SIZE})\")"
      ]
    },
    {
      "cell_type": "code",
      "execution_count": 6,
      "metadata": {
        "colab": {
          "base_uri": "https://localhost:8080/"
        },
        "id": "BS0G0tAVwW9l",
        "outputId": "e3a341ad-5772-4ef0-f0f4-f1c53b921d14"
      },
      "outputs": [
        {
          "name": "stdout",
          "output_type": "stream",
          "text": [
            "train features batch shape: torch.Size([32, 1, 28, 28])\n",
            "train labels batch shape  : torch.Size([32])\n"
          ]
        }
      ],
      "source": [
        "train_features_batch, train_labels_batch = next(iter(train_dataloader))\n",
        "train_features_batch.shape, train_labels_batch.shape\n",
        "print(f\"train features batch shape: {train_features_batch.shape}\")\n",
        "print(f\"train labels batch shape  : {train_labels_batch.shape}\")"
      ]
    },
    {
      "cell_type": "code",
      "execution_count": 7,
      "metadata": {
        "colab": {
          "base_uri": "https://localhost:8080/",
          "height": 463
        },
        "id": "JBZYhs13wW9l",
        "outputId": "815e8d46-4405-4744-deda-c85bdf5e50f1"
      },
      "outputs": [
        {
          "name": "stdout",
          "output_type": "stream",
          "text": [
            "Image size: torch.Size([1, 28, 28])\n",
            "Label: 6, label size: torch.Size([])\n"
          ]
        },
        {
          "data": {
            "image/png": "[encoded data removed]",
            "text/plain": [
              "<Figure size 640x480 with 1 Axes>"
            ]
          },
          "metadata": {},
          "output_type": "display_data"
        }
      ],
      "source": [
        "torch.manual_seed(RAMDOM_SEED)\n",
        "\n",
        "random_idx = torch.randint(0, len(train_features_batch), size=[1]).item()\n",
        "img, label = train_features_batch[random_idx], train_labels_batch[random_idx]\n",
        "plt.imshow(img.squeeze(), cmap=\"gray\")\n",
        "plt.title(class_names[label])\n",
        "plt.axis(\"Off\")\n",
        "print(f\"Image size: {img.shape}\")\n",
        "print(f\"Label: {label}, label size: {label.shape}\")"
      ]
    },
    {
      "cell_type": "markdown",
      "metadata": {
        "id": "TApoICA5wW9m"
      },
      "source": [
        "## 4. Model 0: Build a baseline model"
      ]
    },
    {
      "cell_type": "markdown",
      "metadata": {
        "id": "nCTSuT7ZwW9m"
      },
      "source": [
        "### 4.1 Create the base model"
      ]
    },
    {
      "cell_type": "code",
      "execution_count": 8,
      "metadata": {
        "id": "oNoqsVx6wW9m"
      },
      "outputs": [],
      "source": [
        "class FashionMNISTModelV0(nn.Module):\n",
        "    def __init__(self, input_shape: int, hidden_units: int, output_shape: int):\n",
        "        super().__init__()\n",
        "        self.layer_stack = nn.Sequential(\n",
        "            nn.Flatten(),\n",
        "            nn.Linear(in_features=input_shape, out_features=hidden_units),\n",
        "            nn.Linear(in_features=hidden_units, out_features=output_shape),\n",
        "        )\n",
        "\n",
        "    def forward(self, x):\n",
        "        return self.layer_stack(x)"
      ]
    },
    {
      "cell_type": "code",
      "execution_count": 9,
      "metadata": {
        "colab": {
          "base_uri": "https://localhost:8080/"
        },
        "id": "fBoC2i1GwW9m",
        "outputId": "33929135-e040-41b1-f6be-b352eb6b35dd"
      },
      "outputs": [
        {
          "data": {
            "text/plain": [
              "============================================================================================================================================\n",
              "Layer (type:depth-idx)                   Input Shape               Output Shape              Param #                   Trainable\n",
              "============================================================================================================================================\n",
              "FashionMNISTModelV0                      [32, 784]                 [32, 10]                  --                        True\n",
              "├─Sequential: 1-1                        [32, 784]                 [32, 10]                  --                        True\n",
              "│    └─Flatten: 2-1                      [32, 784]                 [32, 784]                 --                        --\n",
              "│    └─Linear: 2-2                       [32, 784]                 [32, 10]                  7,850                     True\n",
              "│    └─Linear: 2-3                       [32, 10]                  [32, 10]                  110                       True\n",
              "============================================================================================================================================\n",
              "Total params: 7,960\n",
              "Trainable params: 7,960\n",
              "Non-trainable params: 0\n",
              "Total mult-adds (M): 0.25\n",
              "============================================================================================================================================\n",
              "Input size (MB): 0.10\n",
              "Forward/backward pass size (MB): 0.01\n",
              "Params size (MB): 0.03\n",
              "Estimated Total Size (MB): 0.14\n",
              "============================================================================================================================================"
            ]
          },
          "execution_count": 9,
          "metadata": {},
          "output_type": "execute_result"
        }
      ],
      "source": [
        "torch.manual_seed(RAMDOM_SEED)\n",
        "\n",
        "model_0 = FashionMNISTModelV0(\n",
        "    input_shape=28 * 28,\n",
        "    hidden_units=10,\n",
        "    output_shape=NUM_CLASSES,\n",
        ")\n",
        "model_0.to(device)\n",
        "summary(\n",
        "    model_0,\n",
        "    input_size=(BATCH_SIZE, 28 * 28),\n",
        "    col_names=[\"input_size\", \"output_size\", \"num_params\", \"trainable\"],\n",
        ")"
      ]
    },
    {
      "cell_type": "code",
      "execution_count": 10,
      "metadata": {
        "id": "E3OwCpbRwW9n"
      },
      "outputs": [],
      "source": [
        "loss_fn = nn.CrossEntropyLoss()\n",
        "optimizer = torch.optim.SGD(params=model_0.parameters(), lr=0.1)\n",
        "activation_fn = lambda x: torch.argmax(x, dim=1)"
      ]
    },
    {
      "cell_type": "markdown",
      "metadata": {
        "id": "j7vr-3mcwW9n"
      },
      "source": [
        "### 4.2 Train the base model or load pre-trained state_dict"
      ]
    },
    {
      "cell_type": "code",
      "execution_count": 11,
      "metadata": {
        "id": "-JcHOmGWwW9n"
      },
      "outputs": [],
      "source": [
        "model_0.load_state_dict(torch.load(f=\"./models/model_0.pth\"))\n",
        "model_0_results = utils.load_model_results(\"./models/model_0.json\")"
      ]
    },
    {
      "cell_type": "code",
      "execution_count": 21,
      "metadata": {
        "colab": {
          "base_uri": "https://localhost:8080/",
          "height": 416,
          "referenced_widgets": [
            "fc0dd93c0a67480b8a497bacf4874b3b",
            "0faa700c156f4d7180e95e589a5f2293",
            "1e3b97e03f414866a107062e9332c6a4",
            "e6eb9502b28449f5b255135e6189742a",
            "486106d46b504a65a9a15d5ac81d532a",
            "a111b10c4a6c4db2a3166b5b40f1cbc6",
            "b0ab55d5b2494e66b9d517464d7cacd0",
            "90f0193083cd4dcf91a8a208f173f2a6",
            "065ee15db90f4d1d81d55c691add0b34",
            "092b2fa1701341d1be69670c3cb77772",
            "0924cce92ff94672a22d7bc1c62d600f"
          ]
        },
        "id": "t8y17j3mwW9o",
        "outputId": "34813c9b-c696-4800-ea64-62df8eb772f3"
      },
      "outputs": [
        {
          "data": {
            "application/vnd.jupyter.widget-view+json": {
              "model_id": "fc0dd93c0a67480b8a497bacf4874b3b",
              "version_major": 2,
              "version_minor": 0
            },
            "text/plain": [
              "  0%|          | 0/20 [00:00<?, ?it/s]"
            ]
          },
          "metadata": {},
          "output_type": "display_data"
        },
        {
          "name": "stdout",
          "output_type": "stream",
          "text": [
            "Epoch:   1 | train_loss: 0.5891 | train_acc: 0.7925 | test_loss: 0.5327 | test_acc: 0.8171\n",
            "Epoch:   2 | train_loss: 0.4771 | train_acc: 0.8321 | test_loss: 0.6142 | test_acc: 0.7871\n",
            "Epoch:   3 | train_loss: 0.4540 | train_acc: 0.8406 | test_loss: 0.4775 | test_acc: 0.8327\n",
            "Epoch:   4 | train_loss: 0.4419 | train_acc: 0.8449 | test_loss: 0.4600 | test_acc: 0.8375\n",
            "Epoch:   5 | train_loss: 0.4348 | train_acc: 0.8481 | test_loss: 0.4756 | test_acc: 0.8325\n",
            "Epoch:   6 | train_loss: 0.4310 | train_acc: 0.8474 | test_loss: 0.4551 | test_acc: 0.8400\n",
            "Epoch:   7 | train_loss: 0.4260 | train_acc: 0.8518 | test_loss: 0.4621 | test_acc: 0.8351\n",
            "Epoch:   8 | train_loss: 0.4218 | train_acc: 0.8510 | test_loss: 0.4541 | test_acc: 0.8403\n",
            "Epoch:   9 | train_loss: 0.4202 | train_acc: 0.8513 | test_loss: 0.4755 | test_acc: 0.8347\n",
            "Epoch:  10 | train_loss: 0.4172 | train_acc: 0.8547 | test_loss: 0.4442 | test_acc: 0.8408\n",
            "Epoch:  11 | train_loss: 0.4145 | train_acc: 0.8535 | test_loss: 0.4536 | test_acc: 0.8367\n",
            "Epoch:  12 | train_loss: 0.4142 | train_acc: 0.8542 | test_loss: 0.4793 | test_acc: 0.8233\n",
            "Epoch:  13 | train_loss: 0.4114 | train_acc: 0.8550 | test_loss: 0.4514 | test_acc: 0.8380\n",
            "Epoch:  14 | train_loss: 0.4092 | train_acc: 0.8560 | test_loss: 0.4693 | test_acc: 0.8377\n",
            "Epoch:  15 | train_loss: 0.4084 | train_acc: 0.8561 | test_loss: 0.4600 | test_acc: 0.8383\n",
            "Epoch:  16 | train_loss: 0.4069 | train_acc: 0.8565 | test_loss: 0.5011 | test_acc: 0.8275\n",
            "Epoch:  17 | train_loss: 0.4044 | train_acc: 0.8581 | test_loss: 0.5142 | test_acc: 0.8263\n",
            "Epoch:  18 | train_loss: 0.4049 | train_acc: 0.8578 | test_loss: 0.4724 | test_acc: 0.8348\n",
            "Epoch:  19 | train_loss: 0.4036 | train_acc: 0.8577 | test_loss: 0.4609 | test_acc: 0.8395\n",
            "Epoch:  20 | train_loss: 0.4039 | train_acc: 0.8573 | test_loss: 0.4504 | test_acc: 0.8404\n"
          ]
        }
      ],
      "source": [
        "# model_0_results = engine.train(\n",
        "#     epochs=20,\n",
        "#     model=model_0,\n",
        "#     train_dataloader=train_dataloader,\n",
        "#     test_dataloader=test_dataloader,\n",
        "#     optimizer=optimizer,\n",
        "#     loss_fn=loss_fn,\n",
        "#     activation_fn=activation_fn,\n",
        "#     accuracy_fn=multiclass_accuracy,\n",
        "#     device=device,\n",
        "# )"
      ]
    },
    {
      "cell_type": "markdown",
      "metadata": {
        "id": "jjHoUQAEwW9o"
      },
      "source": [
        "### 4.3 Plot loss and accuracy curves"
      ]
    },
    {
      "cell_type": "code",
      "execution_count": 12,
      "metadata": {
        "colab": {
          "base_uri": "https://localhost:8080/",
          "height": 275
        },
        "id": "eNWKmKRMwW9o",
        "outputId": "f790f350-1dcf-40d0-f1e8-14e6d5406ce2"
      },
      "outputs": [
        {
          "data": {
            "image/png": "[encoded data removed]",
            "text/plain": [
              "<Figure size 1400x500 with 2 Axes>"
            ]
          },
          "metadata": {},
          "output_type": "display_data"
        }
      ],
      "source": [
        "utils.plot_loss_curves(model_0_results, figsize=(14, 5))"
      ]
    },
    {
      "cell_type": "markdown",
      "metadata": {
        "id": "w4nUT_39wW9p"
      },
      "source": [
        "### 4.4 Make predictions and get model_0 results"
      ]
    },
    {
      "cell_type": "code",
      "execution_count": 13,
      "metadata": {
        "colab": {
          "base_uri": "https://localhost:8080/"
        },
        "id": "1rGY3iqzwW9p",
        "outputId": "f51dc57d-857d-43f1-b0b5-b621d869c8af"
      },
      "outputs": [
        {
          "name": "stdout",
          "output_type": "stream",
          "text": [
            "Results for FashionMNISTModelV0:\n",
            "loss = 0.450, accuracy = 0.840\n"
          ]
        }
      ],
      "source": [
        "model_0_result = engine.test_step(\n",
        "    model=model_0,\n",
        "    data_loader=test_dataloader,\n",
        "    loss_fn=loss_fn,\n",
        "    activation_fn=activation_fn,\n",
        "    accuracy_fn=multiclass_accuracy,\n",
        "    device=device,\n",
        ")\n",
        "model_name = model_0.__class__.__name__\n",
        "model_loss = model_0_result[0]\n",
        "model_accuracy = model_0_result[1]\n",
        "print(f\"Results for {model_name}:\")\n",
        "print(f\"loss = {model_loss:.3f}, accuracy = {model_accuracy:.3f}\")"
      ]
    },
    {
      "cell_type": "markdown",
      "metadata": {
        "id": "NVNS9G87wW9q"
      },
      "source": [
        "### 4.5 Saving the model"
      ]
    },
    {
      "cell_type": "code",
      "execution_count": 24,
      "metadata": {
        "colab": {
          "base_uri": "https://localhost:8080/"
        },
        "id": "OJZ-HHuTwW9q",
        "outputId": "5ce75723-0748-45c4-97e8-a5d1c63f77b7"
      },
      "outputs": [
        {
          "name": "stdout",
          "output_type": "stream",
          "text": [
            "[INFO] Saving model to: models/model_0.pth\n",
            "[INFO] Saving training results to: models/model_0.json\n"
          ]
        }
      ],
      "source": [
        "utils.save_model(\n",
        "    model=model_0,\n",
        "    target_dir=\"models\",\n",
        "    model_name=\"model_0.pth\",\n",
        "    results=model_0_results,\n",
        ")"
      ]
    },
    {
      "cell_type": "markdown",
      "metadata": {
        "id": "UaBFUWIewW9s"
      },
      "source": [
        "### 4.6 Make and evaluate random predictions"
      ]
    },
    {
      "cell_type": "markdown",
      "metadata": {
        "id": "9aCEmjM6wW9s"
      },
      "source": [
        "#### 4.6.1 Create samples from data"
      ]
    },
    {
      "cell_type": "code",
      "execution_count": 14,
      "metadata": {
        "colab": {
          "base_uri": "https://localhost:8080/"
        },
        "id": "-1Gjcq0xwW9t",
        "outputId": "9ae82bcc-ddf8-4720-8f9c-c29c0f37c90b"
      },
      "outputs": [
        {
          "data": {
            "text/plain": [
              "[5, 1, 7, 4, 3, 0, 4, 7, 1]"
            ]
          },
          "execution_count": 14,
          "metadata": {},
          "output_type": "execute_result"
        }
      ],
      "source": [
        "samples, lables = utils.create_samples(data=test_data, num_samples=9, random_seed=RAMDOM_SEED)\n",
        "lables"
      ]
    },
    {
      "cell_type": "markdown",
      "metadata": {
        "id": "_7oofF-QwW9t"
      },
      "source": [
        "#### 4.6.2 Make predictions"
      ]
    },
    {
      "cell_type": "code",
      "execution_count": 15,
      "metadata": {
        "colab": {
          "base_uri": "https://localhost:8080/"
        },
        "id": "hQYGBZGzwW9t",
        "outputId": "d7e2ef4c-c9c9-47e6-a7da-9dcc3f2d6d16"
      },
      "outputs": [
        {
          "data": {
            "text/plain": [
              "[5, 3, 7, 2, 3, 0, 4, 7, 1]"
            ]
          },
          "execution_count": 15,
          "metadata": {},
          "output_type": "execute_result"
        }
      ],
      "source": [
        "pred_labels = utils.make_predictions(model=model_0, samples=samples, device=device)\n",
        "pred_labels"
      ]
    },
    {
      "cell_type": "markdown",
      "metadata": {
        "id": "biHphuU7wW9u"
      },
      "source": [
        "#### 4.6.3 Plot predictions"
      ]
    },
    {
      "cell_type": "code",
      "execution_count": 16,
      "metadata": {
        "colab": {
          "base_uri": "https://localhost:8080/",
          "height": 644
        },
        "id": "3vWl0zTGwW9u",
        "outputId": "72c54b9b-414f-45e6-ba32-29896002674f"
      },
      "outputs": [
        {
          "data": {
            "image/png": "[encoded data removed]",
            "text/plain": [
              "<Figure size 900x900 with 9 Axes>"
            ]
          },
          "metadata": {},
          "output_type": "display_data"
        }
      ],
      "source": [
        "utils.plot_predictions(\n",
        "    samples=samples,\n",
        "    lables=lables,\n",
        "    pred_labels=pred_labels,\n",
        "    class_names=class_names,\n",
        ")"
      ]
    },
    {
      "cell_type": "markdown",
      "metadata": {
        "id": "8M1ihN0vwW9u"
      },
      "source": [
        "### 4.7 Evaluation with confusion matrix"
      ]
    },
    {
      "cell_type": "code",
      "execution_count": 17,
      "metadata": {
        "colab": {
          "base_uri": "https://localhost:8080/",
          "height": 693,
          "referenced_widgets": [
            "23fa03843eb44d02b7a7679b090dc55f",
            "8dad425e91044355a96da44133e0d6ec",
            "97993989c324418b8fe69ad92b7fb1ba",
            "6884793cc4c44c9f8036a10d15cdac5f",
            "9afb0662dc1c464f8e442c574f52ed21",
            "21be6287c0474103932f5851415fd1b6",
            "0fdeb4341b6f48629397415af5a213f1",
            "76f8f888a2a14b9484dd5b04d9f2c9c5",
            "9d95a80e5d9840b19563eba7ee7f04c1",
            "0dced1e5f027496eb159d38adde2e565",
            "3bfa13e7a198465fb6fa6abb6aff6d36"
          ]
        },
        "id": "NiYjjuAVwW9v",
        "outputId": "1f039d09-e478-4836-cb98-dbfe4bf9fe76"
      },
      "outputs": [
        {
          "data": {
            "application/vnd.jupyter.widget-view+json": {
              "model_id": "23fa03843eb44d02b7a7679b090dc55f",
              "version_major": 2,
              "version_minor": 0
            },
            "text/plain": [
              "Making predictions:   0%|          | 0/313 [00:00<?, ?it/s]"
            ]
          },
          "metadata": {},
          "output_type": "display_data"
        },
        {
          "data": {
            "image/png": "[encoded data removed]",
            "text/plain": [
              "<Figure size 1000x700 with 1 Axes>"
            ]
          },
          "metadata": {},
          "output_type": "display_data"
        }
      ],
      "source": [
        "y_preds = engine.evaluation_step(\n",
        "    model=model_0,\n",
        "    data_loader=test_dataloader,\n",
        "    activation_fn=activation_fn,\n",
        "    device=device,\n",
        ")\n",
        "cm = multiclass_confusion_matrix(y_preds, test_data.targets, NUM_CLASSES)\n",
        "fig, ax = plot_confusion_matrix(cm.numpy(), class_names=class_names, figsize=(10, 7))"
      ]
    },
    {
      "cell_type": "markdown",
      "metadata": {
        "id": "nHEkLixcwW9v"
      },
      "source": [
        "## 5. Model 1: Building a Convolutional Neural Network (CNN)"
      ]
    },
    {
      "cell_type": "markdown",
      "metadata": {
        "id": "FdeTKxXpwW9v"
      },
      "source": [
        "### 5.1 Create the CNN model"
      ]
    },
    {
      "cell_type": "code",
      "execution_count": 18,
      "metadata": {
        "id": "Y2T0zU6AwW9v"
      },
      "outputs": [],
      "source": [
        "class FashionMNISTModelV1(nn.Module):\n",
        "    def __init__(self, input_shape: int, hidden_units: int, output_shape: int):\n",
        "        super().__init__()\n",
        "        self.block_1 = nn.Sequential(\n",
        "            nn.Conv2d(\n",
        "                in_channels=input_shape, # number of image channels\n",
        "                out_channels=hidden_units,\n",
        "                kernel_size=3,\n",
        "                stride=1,\n",
        "                padding=1,\n",
        "            ),\n",
        "            nn.ReLU(),\n",
        "            nn.Conv2d(\n",
        "                in_channels=hidden_units,\n",
        "                out_channels=hidden_units,\n",
        "                kernel_size=3,\n",
        "                stride=1,\n",
        "                padding=1,\n",
        "            ),\n",
        "            nn.ReLU(),\n",
        "            nn.MaxPool2d(\n",
        "                kernel_size=2,\n",
        "                stride=2,\n",
        "            ),\n",
        "        )\n",
        "        self.block_2 = nn.Sequential(\n",
        "            nn.Conv2d(hidden_units, hidden_units, 3, padding=1),\n",
        "            nn.ReLU(),\n",
        "            nn.Conv2d(hidden_units, hidden_units, 3, padding=1),\n",
        "            nn.ReLU(),\n",
        "            nn.MaxPool2d(2),\n",
        "        )\n",
        "        self.classifier = nn.Sequential(\n",
        "            nn.Flatten(),\n",
        "            nn.Linear(\n",
        "                in_features=hidden_units * 7 * 7,\n",
        "                out_features=output_shape,\n",
        "            ),\n",
        "        )\n",
        "\n",
        "    def forward(self, x: torch.Tensor):\n",
        "        x = self.block_1(x)\n",
        "        x = self.block_2(x)\n",
        "        x = self.classifier(x)\n",
        "        return x"
      ]
    },
    {
      "cell_type": "code",
      "execution_count": 19,
      "metadata": {
        "colab": {
          "base_uri": "https://localhost:8080/"
        },
        "id": "eYKMAUkLwW91",
        "outputId": "3a8e476d-3b73-449e-ab9b-a1fe81863c11"
      },
      "outputs": [
        {
          "data": {
            "text/plain": [
              "=====================================================================================================================================================================\n",
              "Layer (type:depth-idx)                   Input Shape               Output Shape              Param #                   Kernel Shape              Trainable\n",
              "=====================================================================================================================================================================\n",
              "FashionMNISTModelV1                      [32, 1, 28, 28]           [32, 10]                  --                        --                        True\n",
              "├─Sequential: 1-1                        [32, 1, 28, 28]           [32, 10, 14, 14]          --                        --                        True\n",
              "│    └─Conv2d: 2-1                       [32, 1, 28, 28]           [32, 10, 28, 28]          100                       [3, 3]                    True\n",
              "│    └─ReLU: 2-2                         [32, 10, 28, 28]          [32, 10, 28, 28]          --                        --                        --\n",
              "│    └─Conv2d: 2-3                       [32, 10, 28, 28]          [32, 10, 28, 28]          910                       [3, 3]                    True\n",
              "│    └─ReLU: 2-4                         [32, 10, 28, 28]          [32, 10, 28, 28]          --                        --                        --\n",
              "│    └─MaxPool2d: 2-5                    [32, 10, 28, 28]          [32, 10, 14, 14]          --                        2                         --\n",
              "├─Sequential: 1-2                        [32, 10, 14, 14]          [32, 10, 7, 7]            --                        --                        True\n",
              "│    └─Conv2d: 2-6                       [32, 10, 14, 14]          [32, 10, 14, 14]          910                       [3, 3]                    True\n",
              "│    └─ReLU: 2-7                         [32, 10, 14, 14]          [32, 10, 14, 14]          --                        --                        --\n",
              "│    └─Conv2d: 2-8                       [32, 10, 14, 14]          [32, 10, 14, 14]          910                       [3, 3]                    True\n",
              "│    └─ReLU: 2-9                         [32, 10, 14, 14]          [32, 10, 14, 14]          --                        --                        --\n",
              "│    └─MaxPool2d: 2-10                   [32, 10, 14, 14]          [32, 10, 7, 7]            --                        2                         --\n",
              "├─Sequential: 1-3                        [32, 10, 7, 7]            [32, 10]                  --                        --                        True\n",
              "│    └─Flatten: 2-11                     [32, 10, 7, 7]            [32, 490]                 --                        --                        --\n",
              "│    └─Linear: 2-12                      [32, 490]                 [32, 10]                  4,910                     --                        True\n",
              "=====================================================================================================================================================================\n",
              "Total params: 7,740\n",
              "Trainable params: 7,740\n",
              "Non-trainable params: 0\n",
              "Total mult-adds (M): 36.91\n",
              "=====================================================================================================================================================================\n",
              "Input size (MB): 0.10\n",
              "Forward/backward pass size (MB): 5.02\n",
              "Params size (MB): 0.03\n",
              "Estimated Total Size (MB): 5.15\n",
              "====================================================================================================================================================================="
            ]
          },
          "execution_count": 19,
          "metadata": {},
          "output_type": "execute_result"
        }
      ],
      "source": [
        "torch.manual_seed(RAMDOM_SEED)\n",
        "\n",
        "model_1 = FashionMNISTModelV1(\n",
        "    input_shape=1,\n",
        "    hidden_units=10,\n",
        "    output_shape=NUM_CLASSES,\n",
        ")\n",
        "model_1.to(device)\n",
        "summary(\n",
        "    model_1,\n",
        "    input_size=(BATCH_SIZE, 1, 28, 28),\n",
        "    col_names=[\"input_size\", \"output_size\", \"num_params\", \"kernel_size\", \"trainable\"],\n",
        ")"
      ]
    },
    {
      "cell_type": "code",
      "execution_count": 20,
      "metadata": {
        "id": "wUSCYoH-wW92"
      },
      "outputs": [],
      "source": [
        "loss_fn = nn.CrossEntropyLoss()\n",
        "optimizer = torch.optim.SGD(params=model_1.parameters(), lr=0.1)\n",
        "activation_fn = lambda x: torch.argmax(x, dim=1)"
      ]
    },
    {
      "cell_type": "markdown",
      "metadata": {
        "id": "Y2HrMs4wwW92"
      },
      "source": [
        "### 5.2 Train the base model or load pre-trained state_dict"
      ]
    },
    {
      "cell_type": "code",
      "execution_count": 21,
      "metadata": {
        "id": "q5FenvyuwW92"
      },
      "outputs": [],
      "source": [
        "model_1.load_state_dict(torch.load(f=\"./models/model_1.pth\"))\n",
        "model_1_results = utils.load_model_results(\"./models/model_1.json\")"
      ]
    },
    {
      "cell_type": "code",
      "execution_count": 36,
      "metadata": {
        "colab": {
          "base_uri": "https://localhost:8080/",
          "height": 416,
          "referenced_widgets": [
            "5773d15c9feb48a9ba3d7d945ebc9c29",
            "b76ab604e6354af499ad2c08dc50ef78",
            "c6c9e339713c4d0a9952713798a987ea",
            "b70723af7bb94d4f9dc58621bacdffdc",
            "3396df61ec0e444fa1c58cb86042e9e0",
            "ebff55db75be4520bfaa551724c27eda",
            "08e75eb78e0a4c2091c46d6709be63b7",
            "e89f07cdaaff4d49a8f753db7abc5b66",
            "ef4dc33ed3324c0ebcf985448e32f823",
            "4bb6d259de874661990f3759ece33ae2",
            "24943e5263584a98a4807b0511a5fc61"
          ]
        },
        "id": "_Vnpku7CwW93",
        "outputId": "5b6e5d99-8884-432d-808c-d27ac6bfd665"
      },
      "outputs": [
        {
          "data": {
            "application/vnd.jupyter.widget-view+json": {
              "model_id": "5773d15c9feb48a9ba3d7d945ebc9c29",
              "version_major": 2,
              "version_minor": 0
            },
            "text/plain": [
              "  0%|          | 0/20 [00:00<?, ?it/s]"
            ]
          },
          "metadata": {},
          "output_type": "display_data"
        },
        {
          "name": "stdout",
          "output_type": "stream",
          "text": [
            "Epoch:   1 | train_loss: 0.5794 | train_acc: 0.7891 | test_loss: 0.4003 | test_acc: 0.8516\n",
            "Epoch:   2 | train_loss: 0.3564 | train_acc: 0.8692 | test_loss: 0.3671 | test_acc: 0.8667\n",
            "Epoch:   3 | train_loss: 0.3189 | train_acc: 0.8851 | test_loss: 0.3238 | test_acc: 0.8786\n",
            "Epoch:   4 | train_loss: 0.2984 | train_acc: 0.8911 | test_loss: 0.3246 | test_acc: 0.8841\n",
            "Epoch:   5 | train_loss: 0.2857 | train_acc: 0.8957 | test_loss: 0.3169 | test_acc: 0.8852\n",
            "Epoch:   6 | train_loss: 0.2776 | train_acc: 0.8989 | test_loss: 0.2977 | test_acc: 0.8933\n",
            "Epoch:   7 | train_loss: 0.2681 | train_acc: 0.9024 | test_loss: 0.3021 | test_acc: 0.8871\n",
            "Epoch:   8 | train_loss: 0.2606 | train_acc: 0.9054 | test_loss: 0.2976 | test_acc: 0.8950\n",
            "Epoch:   9 | train_loss: 0.2539 | train_acc: 0.9072 | test_loss: 0.2829 | test_acc: 0.8994\n",
            "Epoch:  10 | train_loss: 0.2501 | train_acc: 0.9085 | test_loss: 0.2921 | test_acc: 0.8981\n",
            "Epoch:  11 | train_loss: 0.2447 | train_acc: 0.9113 | test_loss: 0.2989 | test_acc: 0.8970\n",
            "Epoch:  12 | train_loss: 0.2418 | train_acc: 0.9122 | test_loss: 0.2870 | test_acc: 0.8945\n",
            "Epoch:  13 | train_loss: 0.2389 | train_acc: 0.9135 | test_loss: 0.2794 | test_acc: 0.9016\n",
            "Epoch:  14 | train_loss: 0.2364 | train_acc: 0.9125 | test_loss: 0.2752 | test_acc: 0.9012\n",
            "Epoch:  15 | train_loss: 0.2325 | train_acc: 0.9153 | test_loss: 0.2929 | test_acc: 0.9003\n",
            "Epoch:  16 | train_loss: 0.2310 | train_acc: 0.9155 | test_loss: 0.2771 | test_acc: 0.9025\n",
            "Epoch:  17 | train_loss: 0.2268 | train_acc: 0.9169 | test_loss: 0.3061 | test_acc: 0.8896\n",
            "Epoch:  18 | train_loss: 0.2276 | train_acc: 0.9171 | test_loss: 0.2805 | test_acc: 0.8996\n",
            "Epoch:  19 | train_loss: 0.2243 | train_acc: 0.9177 | test_loss: 0.2813 | test_acc: 0.8980\n",
            "Epoch:  20 | train_loss: 0.2219 | train_acc: 0.9185 | test_loss: 0.2755 | test_acc: 0.8993\n"
          ]
        }
      ],
      "source": [
        "# model_1_results = engine.train(\n",
        "#     epochs=20,\n",
        "#     model=model_1,\n",
        "#     train_dataloader=train_dataloader,\n",
        "#     test_dataloader=test_dataloader,\n",
        "#     optimizer=optimizer,\n",
        "#     loss_fn=loss_fn,\n",
        "#     activation_fn=activation_fn,\n",
        "#     accuracy_fn=multiclass_accuracy,\n",
        "#     device=device,\n",
        "# )"
      ]
    },
    {
      "cell_type": "markdown",
      "metadata": {
        "id": "C83i9y1JwW94"
      },
      "source": [
        "### 5.3 Plot loss and accuracy curves"
      ]
    },
    {
      "cell_type": "code",
      "execution_count": 22,
      "metadata": {
        "colab": {
          "base_uri": "https://localhost:8080/",
          "height": 275
        },
        "id": "x2X54X-RwW94",
        "outputId": "9e6b5eed-b1cf-4fbc-80ca-85a19c879146"
      },
      "outputs": [
        {
          "data": {
            "image/png": "[encoded data removed]",
            "text/plain": [
              "<Figure size 1400x500 with 2 Axes>"
            ]
          },
          "metadata": {},
          "output_type": "display_data"
        }
      ],
      "source": [
        "utils.plot_loss_curves(model_1_results, figsize=(14, 5))"
      ]
    },
    {
      "cell_type": "markdown",
      "metadata": {
        "id": "c8hlmjtWwW95"
      },
      "source": [
        "### 5.4 Make predictions and get model_1 results"
      ]
    },
    {
      "cell_type": "code",
      "execution_count": 23,
      "metadata": {
        "colab": {
          "base_uri": "https://localhost:8080/"
        },
        "id": "ihnzKuJ_wW95",
        "outputId": "2fc36c53-36a3-44b4-caeb-9a4770513aab"
      },
      "outputs": [
        {
          "name": "stdout",
          "output_type": "stream",
          "text": [
            "Results for FashionMNISTModelV1:\n",
            "loss = 0.276, accuracy = 0.899\n"
          ]
        }
      ],
      "source": [
        "model_1_result = engine.test_step(\n",
        "    model=model_1,\n",
        "    data_loader=test_dataloader,\n",
        "    loss_fn=loss_fn,\n",
        "    activation_fn=activation_fn,\n",
        "    accuracy_fn=multiclass_accuracy,\n",
        "    device=device,\n",
        ")\n",
        "model_name = model_1.__class__.__name__\n",
        "model_loss = model_1_result[0]\n",
        "model_accuracy = model_1_result[1]\n",
        "print(f\"Results for {model_name}:\")\n",
        "print(f\"loss = {model_loss:.3f}, accuracy = {model_accuracy:.3f}\")"
      ]
    },
    {
      "cell_type": "markdown",
      "metadata": {
        "id": "bDyXxNVXwW96"
      },
      "source": [
        "### 5.5 Saving the model"
      ]
    },
    {
      "cell_type": "code",
      "execution_count": 24,
      "metadata": {
        "colab": {
          "base_uri": "https://localhost:8080/"
        },
        "id": "qBZTerg8wW96",
        "outputId": "07fe97a0-c5fb-4222-e63f-b2bc95a97597"
      },
      "outputs": [
        {
          "name": "stdout",
          "output_type": "stream",
          "text": [
            "[INFO] Saving model to: models/model_1.pth\n",
            "[INFO] Saving training results to: models/model_1.json\n"
          ]
        }
      ],
      "source": [
        "utils.save_model(\n",
        "    model=model_1,\n",
        "    target_dir=\"models\",\n",
        "    model_name=\"model_1.pth\",\n",
        "    results=model_1_results,\n",
        ")"
      ]
    },
    {
      "cell_type": "markdown",
      "metadata": {
        "id": "Lt6O83cWwW96"
      },
      "source": [
        "### 5.6 Make and evaluate random predictions"
      ]
    },
    {
      "cell_type": "markdown",
      "metadata": {
        "id": "bQVltR_PwW96"
      },
      "source": [
        "#### 5.6.1 Create samples from data"
      ]
    },
    {
      "cell_type": "code",
      "execution_count": 25,
      "metadata": {
        "colab": {
          "base_uri": "https://localhost:8080/"
        },
        "id": "hEYCtmr2wW97",
        "outputId": "a536024a-24f0-4c28-d277-9a1f4d535b48"
      },
      "outputs": [
        {
          "data": {
            "text/plain": [
              "[5, 1, 7, 4, 3, 0, 4, 7, 1]"
            ]
          },
          "execution_count": 25,
          "metadata": {},
          "output_type": "execute_result"
        }
      ],
      "source": [
        "samples, lables = utils.create_samples(data=test_data, num_samples=9, random_seed=RAMDOM_SEED)\n",
        "lables"
      ]
    },
    {
      "cell_type": "markdown",
      "metadata": {
        "id": "n0b1WWfmwW97"
      },
      "source": [
        "#### 5.6.2 Make predictions"
      ]
    },
    {
      "cell_type": "code",
      "execution_count": 26,
      "metadata": {
        "colab": {
          "base_uri": "https://localhost:8080/"
        },
        "id": "EfPjUdYiwW98",
        "outputId": "3cba4861-9162-4ff0-a2e4-e40584717667"
      },
      "outputs": [
        {
          "data": {
            "text/plain": [
              "[5, 1, 7, 2, 3, 6, 4, 7, 1]"
            ]
          },
          "execution_count": 26,
          "metadata": {},
          "output_type": "execute_result"
        }
      ],
      "source": [
        "pred_labels = utils.make_predictions(model=model_1, samples=samples, device=device)\n",
        "pred_labels"
      ]
    },
    {
      "cell_type": "markdown",
      "metadata": {
        "id": "mCJ1OuMuwW98"
      },
      "source": [
        "#### 5.6.3 Plot predictions"
      ]
    },
    {
      "cell_type": "code",
      "execution_count": 27,
      "metadata": {
        "colab": {
          "base_uri": "https://localhost:8080/",
          "height": 656
        },
        "id": "7XjvQND7wW98",
        "outputId": "9a0cfb84-43ea-4c4b-9747-3b5266af6f2e"
      },
      "outputs": [
        {
          "data": {
            "image/png": "[encoded data removed]",
            "text/plain": [
              "<Figure size 900x900 with 9 Axes>"
            ]
          },
          "metadata": {},
          "output_type": "display_data"
        }
      ],
      "source": [
        "utils.plot_predictions(\n",
        "    samples=samples,\n",
        "    lables=lables,\n",
        "    pred_labels=pred_labels,\n",
        "    class_names=class_names,\n",
        ")"
      ]
    },
    {
      "cell_type": "markdown",
      "metadata": {
        "id": "Jp6__iRawW99"
      },
      "source": [
        "### 5.7 Evaluation with confusion matrix"
      ]
    },
    {
      "cell_type": "code",
      "execution_count": 28,
      "metadata": {
        "colab": {
          "base_uri": "https://localhost:8080/",
          "height": 693,
          "referenced_widgets": [
            "39203e26c7374c9bafa145f1474fd08e",
            "5cfd2a89be3a40c38d3ad9bb4b78e6f2",
            "19cc5ac5725047cdb8049f82786ae32c",
            "816d018d64b44a199781f0e5c5b9ecf7",
            "29b058e5bac74d5a8dcc2b9367e89643",
            "41327583e9a544ccbadd81b35123574a",
            "207252809f1f4b52a5a10b211398b67a",
            "df483f892ab04352afc5a662d7e7d820",
            "1b6f6886359d469c98ac30c1c2881451",
            "17dc0d4a300341b89af4e5aa09fdb4e5",
            "ba810bdf8c2a4b4fa0f647f9647d9302"
          ]
        },
        "id": "A9gV1WNNwW99",
        "outputId": "d8cd5934-ec16-4bb4-b18b-4ddc27c54aec"
      },
      "outputs": [
        {
          "data": {
            "application/vnd.jupyter.widget-view+json": {
              "model_id": "39203e26c7374c9bafa145f1474fd08e",
              "version_major": 2,
              "version_minor": 0
            },
            "text/plain": [
              "Making predictions:   0%|          | 0/313 [00:00<?, ?it/s]"
            ]
          },
          "metadata": {},
          "output_type": "display_data"
        },
        {
          "data": {
            "image/png": "[encoded data removed]",
            "text/plain": [
              "<Figure size 1000x700 with 1 Axes>"
            ]
          },
          "metadata": {},
          "output_type": "display_data"
        }
      ],
      "source": [
        "y_preds = engine.evaluation_step(\n",
        "    model=model_1,\n",
        "    data_loader=test_dataloader,\n",
        "    activation_fn=activation_fn,\n",
        "    device=device,\n",
        ")\n",
        "cm = multiclass_confusion_matrix(y_preds, test_data.targets, NUM_CLASSES)\n",
        "fig, ax = plot_confusion_matrix(cm.numpy(), class_names=class_names, figsize=(10, 7))"
      ]
    },
    {
      "cell_type": "markdown",
      "metadata": {
        "id": "5fRe3goqwW9-"
      },
      "source": [
        "## 6. Compare model results"
      ]
    },
    {
      "cell_type": "code",
      "execution_count": 29,
      "metadata": {
        "colab": {
          "base_uri": "https://localhost:8080/",
          "height": 112
        },
        "id": "LSYxEuVYwW9-",
        "outputId": "d67b3785-5c26-478b-bd20-2e332662f2ec"
      },
      "outputs": [
        {
          "data": {
            "text/html": [
              "\n",
              "  <div id=\"df-5a68a05d-bcab-4726-bd71-1dae428d36ce\" class=\"colab-df-container\">\n",
              "    <div>\n",
              "<style scoped>\n",
              "    .dataframe tbody tr th:only-of-type {\n",
              "        vertical-align: middle;\n",
              "    }\n",
              "\n",
              "    .dataframe tbody tr th {\n",
              "        vertical-align: top;\n",
              "    }\n",
              "\n",
              "    .dataframe thead th {\n",
              "        text-align: right;\n",
              "    }\n",
              "</style>\n",
              "<table border=\"1\" class=\"dataframe\">\n",
              "  <thead>\n",
              "    <tr style=\"text-align: right;\">\n",
              "      <th></th>\n",
              "      <th>model</th>\n",
              "      <th>loss</th>\n",
              "      <th>accuracy</th>\n",
              "    </tr>\n",
              "  </thead>\n",
              "  <tbody>\n",
              "    <tr>\n",
              "      <th>0</th>\n",
              "      <td>FashionMNISTModelV0</td>\n",
              "      <td>0.450395</td>\n",
              "      <td>0.840355</td>\n",
              "    </tr>\n",
              "    <tr>\n",
              "      <th>1</th>\n",
              "      <td>FashionMNISTModelV1</td>\n",
              "      <td>0.275516</td>\n",
              "      <td>0.899261</td>\n",
              "    </tr>\n",
              "  </tbody>\n",
              "</table>\n",
              "</div>\n",
              "    <div class=\"colab-df-buttons\">\n",
              "\n",
              "  <div class=\"colab-df-container\">\n",
              "    <button class=\"colab-df-convert\" onclick=\"convertToInteractive('df-5a68a05d-bcab-4726-bd71-1dae428d36ce')\"\n",
              "            title=\"Convert this dataframe to an interactive table.\"\n",
              "            style=\"display:none;\">\n",
              "\n",
              "  <svg xmlns=\"http://www.w3.org/2000/svg\" height=\"24px\" viewBox=\"0 -960 960 960\">\n",
              "    <path d=\"M120-120v-720h720v720H120Zm60-500h600v-160H180v160Zm220 220h160v-160H400v160Zm0 220h160v-160H400v160ZM180-400h160v-160H180v160Zm440 0h160v-160H620v160ZM180-180h160v-160H180v160Zm440 0h160v-160H620v160Z\"/>\n",
              "  </svg>\n",
              "    </button>\n",
              "\n",
              "  <style>\n",
              "    .colab-df-container {\n",
              "      display:flex;\n",
              "      gap: 12px;\n",
              "    }\n",
              "\n",
              "    .colab-df-convert {\n",
              "      background-color: #E8F0FE;\n",
              "      border: none;\n",
              "      border-radius: 50%;\n",
              "      cursor: pointer;\n",
              "      display: none;\n",
              "      fill: #1967D2;\n",
              "      height: 32px;\n",
              "      padding: 0 0 0 0;\n",
              "      width: 32px;\n",
              "    }\n",
              "\n",
              "    .colab-df-convert:hover {\n",
              "      background-color: #E2EBFA;\n",
              "      box-shadow: 0px 1px 2px rgba(60, 64, 67, 0.3), 0px 1px 3px 1px rgba(60, 64, 67, 0.15);\n",
              "      fill: #174EA6;\n",
              "    }\n",
              "\n",
              "    .colab-df-buttons div {\n",
              "      margin-bottom: 4px;\n",
              "    }\n",
              "\n",
              "    [theme=dark] .colab-df-convert {\n",
              "      background-color: #3B4455;\n",
              "      fill: #D2E3FC;\n",
              "    }\n",
              "\n",
              "    [theme=dark] .colab-df-convert:hover {\n",
              "      background-color: #434B5C;\n",
              "      box-shadow: 0px 1px 3px 1px rgba(0, 0, 0, 0.15);\n",
              "      filter: drop-shadow(0px 1px 2px rgba(0, 0, 0, 0.3));\n",
              "      fill: #FFFFFF;\n",
              "    }\n",
              "  </style>\n",
              "\n",
              "    <script>\n",
              "      const buttonEl =\n",
              "        document.querySelector('#df-5a68a05d-bcab-4726-bd71-1dae428d36ce button.colab-df-convert');\n",
              "      buttonEl.style.display =\n",
              "        google.colab.kernel.accessAllowed ? 'block' : 'none';\n",
              "\n",
              "      async function convertToInteractive(key) {\n",
              "        const element = document.querySelector('#df-5a68a05d-bcab-4726-bd71-1dae428d36ce');\n",
              "        const dataTable =\n",
              "          await google.colab.kernel.invokeFunction('convertToInteractive',\n",
              "                                                    [key], {});\n",
              "        if (!dataTable) return;\n",
              "\n",
              "        const docLinkHtml = 'Like what you see? Visit the ' +\n",
              "          '<a target=\"_blank\" href=https://colab.research.google.com/notebooks/data_table.ipynb>data table notebook</a>'\n",
              "          + ' to learn more about interactive tables.';\n",
              "        element.innerHTML = '';\n",
              "        dataTable['output_type'] = 'display_data';\n",
              "        await google.colab.output.renderOutput(dataTable, element);\n",
              "        const docLink = document.createElement('div');\n",
              "        docLink.innerHTML = docLinkHtml;\n",
              "        element.appendChild(docLink);\n",
              "      }\n",
              "    </script>\n",
              "  </div>\n",
              "\n",
              "\n",
              "<div id=\"df-815583e7-2eb7-471b-9473-c6aab068425c\">\n",
              "  <button class=\"colab-df-quickchart\" onclick=\"quickchart('df-815583e7-2eb7-471b-9473-c6aab068425c')\"\n",
              "            title=\"Suggest charts\"\n",
              "            style=\"display:none;\">\n",
              "\n",
              "<svg xmlns=\"http://www.w3.org/2000/svg\" height=\"24px\"viewBox=\"0 0 24 24\"\n",
              "     width=\"24px\">\n",
              "    <g>\n",
              "        <path d=\"M19 3H5c-1.1 0-2 .9-2 2v14c0 1.1.9 2 2 2h14c1.1 0 2-.9 2-2V5c0-1.1-.9-2-2-2zM9 17H7v-7h2v7zm4 0h-2V7h2v10zm4 0h-2v-4h2v4z\"/>\n",
              "    </g>\n",
              "</svg>\n",
              "  </button>\n",
              "\n",
              "<style>\n",
              "  .colab-df-quickchart {\n",
              "      --bg-color: #E8F0FE;\n",
              "      --fill-color: #1967D2;\n",
              "      --hover-bg-color: #E2EBFA;\n",
              "      --hover-fill-color: #174EA6;\n",
              "      --disabled-fill-color: #AAA;\n",
              "      --disabled-bg-color: #DDD;\n",
              "  }\n",
              "\n",
              "  [theme=dark] .colab-df-quickchart {\n",
              "      --bg-color: #3B4455;\n",
              "      --fill-color: #D2E3FC;\n",
              "      --hover-bg-color: #434B5C;\n",
              "      --hover-fill-color: #FFFFFF;\n",
              "      --disabled-bg-color: #3B4455;\n",
              "      --disabled-fill-color: #666;\n",
              "  }\n",
              "\n",
              "  .colab-df-quickchart {\n",
              "    background-color: var(--bg-color);\n",
              "    border: none;\n",
              "    border-radius: 50%;\n",
              "    cursor: pointer;\n",
              "    display: none;\n",
              "    fill: var(--fill-color);\n",
              "    height: 32px;\n",
              "    padding: 0;\n",
              "    width: 32px;\n",
              "  }\n",
              "\n",
              "  .colab-df-quickchart:hover {\n",
              "    background-color: var(--hover-bg-color);\n",
              "    box-shadow: 0 1px 2px rgba(60, 64, 67, 0.3), 0 1px 3px 1px rgba(60, 64, 67, 0.15);\n",
              "    fill: var(--button-hover-fill-color);\n",
              "  }\n",
              "\n",
              "  .colab-df-quickchart-complete:disabled,\n",
              "  .colab-df-quickchart-complete:disabled:hover {\n",
              "    background-color: var(--disabled-bg-color);\n",
              "    fill: var(--disabled-fill-color);\n",
              "    box-shadow: none;\n",
              "  }\n",
              "\n",
              "  .colab-df-spinner {\n",
              "    border: 2px solid var(--fill-color);\n",
              "    border-color: transparent;\n",
              "    border-bottom-color: var(--fill-color);\n",
              "    animation:\n",
              "      spin 1s steps(1) infinite;\n",
              "  }\n",
              "\n",
              "  @keyframes spin {\n",
              "    0% {\n",
              "      border-color: transparent;\n",
              "      border-bottom-color: var(--fill-color);\n",
              "      border-left-color: var(--fill-color);\n",
              "    }\n",
              "    20% {\n",
              "      border-color: transparent;\n",
              "      border-left-color: var(--fill-color);\n",
              "      border-top-color: var(--fill-color);\n",
              "    }\n",
              "    30% {\n",
              "      border-color: transparent;\n",
              "      border-left-color: var(--fill-color);\n",
              "      border-top-color: var(--fill-color);\n",
              "      border-right-color: var(--fill-color);\n",
              "    }\n",
              "    40% {\n",
              "      border-color: transparent;\n",
              "      border-right-color: var(--fill-color);\n",
              "      border-top-color: var(--fill-color);\n",
              "    }\n",
              "    60% {\n",
              "      border-color: transparent;\n",
              "      border-right-color: var(--fill-color);\n",
              "    }\n",
              "    80% {\n",
              "      border-color: transparent;\n",
              "      border-right-color: var(--fill-color);\n",
              "      border-bottom-color: var(--fill-color);\n",
              "    }\n",
              "    90% {\n",
              "      border-color: transparent;\n",
              "      border-bottom-color: var(--fill-color);\n",
              "    }\n",
              "  }\n",
              "</style>\n",
              "\n",
              "  <script>\n",
              "    async function quickchart(key) {\n",
              "      const quickchartButtonEl =\n",
              "        document.querySelector('#' + key + ' button');\n",
              "      quickchartButtonEl.disabled = true;  // To prevent multiple clicks.\n",
              "      quickchartButtonEl.classList.add('colab-df-spinner');\n",
              "      try {\n",
              "        const charts = await google.colab.kernel.invokeFunction(\n",
              "            'suggestCharts', [key], {});\n",
              "      } catch (error) {\n",
              "        console.error('Error during call to suggestCharts:', error);\n",
              "      }\n",
              "      quickchartButtonEl.classList.remove('colab-df-spinner');\n",
              "      quickchartButtonEl.classList.add('colab-df-quickchart-complete');\n",
              "    }\n",
              "    (() => {\n",
              "      let quickchartButtonEl =\n",
              "        document.querySelector('#df-815583e7-2eb7-471b-9473-c6aab068425c button');\n",
              "      quickchartButtonEl.style.display =\n",
              "        google.colab.kernel.accessAllowed ? 'block' : 'none';\n",
              "    })();\n",
              "  </script>\n",
              "</div>\n",
              "    </div>\n",
              "  </div>\n"
            ],
            "text/plain": [
              "                 model      loss  accuracy\n",
              "0  FashionMNISTModelV0  0.450395  0.840355\n",
              "1  FashionMNISTModelV1  0.275516  0.899261"
            ]
          },
          "execution_count": 29,
          "metadata": {},
          "output_type": "execute_result"
        }
      ],
      "source": [
        "compare_results = pd.DataFrame({\n",
        "    \"model\": [model_0.__class__.__name__, model_1.__class__.__name__],\n",
        "    \"loss\": [model_0_result[0], model_1_result[0]],\n",
        "    \"accuracy\": [model_0_result[1], model_1_result[1]],\n",
        "})\n",
        "compare_results"
      ]
    },
    {
      "cell_type": "code",
      "execution_count": 30,
      "metadata": {
        "colab": {
          "base_uri": "https://localhost:8080/",
          "height": 404
        },
        "id": "9mUqEfU2wW9-",
        "outputId": "bdde5335-8c6e-45a0-9a9a-681529b3b2a8"
      },
      "outputs": [
        {
          "data": {
            "image/png": "[encoded data removed]",
            "text/plain": [
              "<Figure size 640x480 with 1 Axes>"
            ]
          },
          "metadata": {},
          "output_type": "display_data"
        }
      ],
      "source": [
        "compare_results.set_index(\"model\")[\"accuracy\"].plot(kind=\"barh\")\n",
        "plt.xlabel(\"accuracy (%)\")\n",
        "plt.ylabel(\"model\");"
      ]
    }
  ],
  "metadata": {
    "accelerator": "GPU",
    "colab": {
      "gpuType": "T4",
      "provenance": []
    },
    "kernelspec": {
      "display_name": "Python 3",
      "name": "python3"
    },
    "language_info": {
      "codemirror_mode": {
        "name": "ipython",
        "version": 3
      },
      "file_extension": ".py",
      "mimetype": "text/x-python",
      "name": "python",
      "nbconvert_exporter": "python",
      "pygments_lexer": "ipython3",
      "version": "3.10.13"
    },
    "widgets": {
      "application/vnd.jupyter.widget-state+json": {
        "065ee15db90f4d1d81d55c691add0b34": {
          "model_module": "@jupyter-widgets/controls",
          "model_module_version": "1.5.0",
          "model_name": "ProgressStyleModel",
          "state": {
            "_model_module": "@jupyter-widgets/controls",
            "_model_module_version": "1.5.0",
            "_model_name": "ProgressStyleModel",
            "_view_count": null,
            "_view_module": "@jupyter-widgets/base",
            "_view_module_version": "1.2.0",
            "_view_name": "StyleView",
            "bar_color": null,
            "description_width": ""
          }
        },
        "08e75eb78e0a4c2091c46d6709be63b7": {
          "model_module": "@jupyter-widgets/controls",
          "model_module_version": "1.5.0",
          "model_name": "DescriptionStyleModel",
          "state": {
            "_model_module": "@jupyter-widgets/controls",
            "_model_module_version": "1.5.0",
            "_model_name": "DescriptionStyleModel",
            "_view_count": null,
            "_view_module": "@jupyter-widgets/base",
            "_view_module_version": "1.2.0",
            "_view_name": "StyleView",
            "description_width": ""
          }
        },
        "0924cce92ff94672a22d7bc1c62d600f": {
          "model_module": "@jupyter-widgets/controls",
          "model_module_version": "1.5.0",
          "model_name": "DescriptionStyleModel",
          "state": {
            "_model_module": "@jupyter-widgets/controls",
            "_model_module_version": "1.5.0",
            "_model_name": "DescriptionStyleModel",
            "_view_count": null,
            "_view_module": "@jupyter-widgets/base",
            "_view_module_version": "1.2.0",
            "_view_name": "StyleView",
            "description_width": ""
          }
        },
        "092b2fa1701341d1be69670c3cb77772": {
          "model_module": "@jupyter-widgets/base",
          "model_module_version": "1.2.0",
          "model_name": "LayoutModel",
          "state": {
            "_model_module": "@jupyter-widgets/base",
            "_model_module_version": "1.2.0",
            "_model_name": "LayoutModel",
            "_view_count": null,
            "_view_module": "@jupyter-widgets/base",
            "_view_module_version": "1.2.0",
            "_view_name": "LayoutView",
            "align_content": null,
            "align_items": null,
            "align_self": null,
            "border": null,
            "bottom": null,
            "display": null,
            "flex": null,
            "flex_flow": null,
            "grid_area": null,
            "grid_auto_columns": null,
            "grid_auto_flow": null,
            "grid_auto_rows": null,
            "grid_column": null,
            "grid_gap": null,
            "grid_row": null,
            "grid_template_areas": null,
            "grid_template_columns": null,
            "grid_template_rows": null,
            "height": null,
            "justify_content": null,
            "justify_items": null,
            "left": null,
            "margin": null,
            "max_height": null,
            "max_width": null,
            "min_height": null,
            "min_width": null,
            "object_fit": null,
            "object_position": null,
            "order": null,
            "overflow": null,
            "overflow_x": null,
            "overflow_y": null,
            "padding": null,
            "right": null,
            "top": null,
            "visibility": null,
            "width": null
          }
        },
        "0dced1e5f027496eb159d38adde2e565": {
          "model_module": "@jupyter-widgets/base",
          "model_module_version": "1.2.0",
          "model_name": "LayoutModel",
          "state": {
            "_model_module": "@jupyter-widgets/base",
            "_model_module_version": "1.2.0",
            "_model_name": "LayoutModel",
            "_view_count": null,
            "_view_module": "@jupyter-widgets/base",
            "_view_module_version": "1.2.0",
            "_view_name": "LayoutView",
            "align_content": null,
            "align_items": null,
            "align_self": null,
            "border": null,
            "bottom": null,
            "display": null,
            "flex": null,
            "flex_flow": null,
            "grid_area": null,
            "grid_auto_columns": null,
            "grid_auto_flow": null,
            "grid_auto_rows": null,
            "grid_column": null,
            "grid_gap": null,
            "grid_row": null,
            "grid_template_areas": null,
            "grid_template_columns": null,
            "grid_template_rows": null,
            "height": null,
            "justify_content": null,
            "justify_items": null,
            "left": null,
            "margin": null,
            "max_height": null,
            "max_width": null,
            "min_height": null,
            "min_width": null,
            "object_fit": null,
            "object_position": null,
            "order": null,
            "overflow": null,
            "overflow_x": null,
            "overflow_y": null,
            "padding": null,
            "right": null,
            "top": null,
            "visibility": null,
            "width": null
          }
        },
        "0faa700c156f4d7180e95e589a5f2293": {
          "model_module": "@jupyter-widgets/controls",
          "model_module_version": "1.5.0",
          "model_name": "HTMLModel",
          "state": {
            "_dom_classes": [],
            "_model_module": "@jupyter-widgets/controls",
            "_model_module_version": "1.5.0",
            "_model_name": "HTMLModel",
            "_view_count": null,
            "_view_module": "@jupyter-widgets/controls",
            "_view_module_version": "1.5.0",
            "_view_name": "HTMLView",
            "description": "",
            "description_tooltip": null,
            "layout": "IPY_MODEL_a111b10c4a6c4db2a3166b5b40f1cbc6",
            "placeholder": "​",
            "style": "IPY_MODEL_b0ab55d5b2494e66b9d517464d7cacd0",
            "value": "100%"
          }
        },
        "0fdeb4341b6f48629397415af5a213f1": {
          "model_module": "@jupyter-widgets/controls",
          "model_module_version": "1.5.0",
          "model_name": "DescriptionStyleModel",
          "state": {
            "_model_module": "@jupyter-widgets/controls",
            "_model_module_version": "1.5.0",
            "_model_name": "DescriptionStyleModel",
            "_view_count": null,
            "_view_module": "@jupyter-widgets/base",
            "_view_module_version": "1.2.0",
            "_view_name": "StyleView",
            "description_width": ""
          }
        },
        "17dc0d4a300341b89af4e5aa09fdb4e5": {
          "model_module": "@jupyter-widgets/base",
          "model_module_version": "1.2.0",
          "model_name": "LayoutModel",
          "state": {
            "_model_module": "@jupyter-widgets/base",
            "_model_module_version": "1.2.0",
            "_model_name": "LayoutModel",
            "_view_count": null,
            "_view_module": "@jupyter-widgets/base",
            "_view_module_version": "1.2.0",
            "_view_name": "LayoutView",
            "align_content": null,
            "align_items": null,
            "align_self": null,
            "border": null,
            "bottom": null,
            "display": null,
            "flex": null,
            "flex_flow": null,
            "grid_area": null,
            "grid_auto_columns": null,
            "grid_auto_flow": null,
            "grid_auto_rows": null,
            "grid_column": null,
            "grid_gap": null,
            "grid_row": null,
            "grid_template_areas": null,
            "grid_template_columns": null,
            "grid_template_rows": null,
            "height": null,
            "justify_content": null,
            "justify_items": null,
            "left": null,
            "margin": null,
            "max_height": null,
            "max_width": null,
            "min_height": null,
            "min_width": null,
            "object_fit": null,
            "object_position": null,
            "order": null,
            "overflow": null,
            "overflow_x": null,
            "overflow_y": null,
            "padding": null,
            "right": null,
            "top": null,
            "visibility": null,
            "width": null
          }
        },
        "19cc5ac5725047cdb8049f82786ae32c": {
          "model_module": "@jupyter-widgets/controls",
          "model_module_version": "1.5.0",
          "model_name": "FloatProgressModel",
          "state": {
            "_dom_classes": [],
            "_model_module": "@jupyter-widgets/controls",
            "_model_module_version": "1.5.0",
            "_model_name": "FloatProgressModel",
            "_view_count": null,
            "_view_module": "@jupyter-widgets/controls",
            "_view_module_version": "1.5.0",
            "_view_name": "ProgressView",
            "bar_style": "success",
            "description": "",
            "description_tooltip": null,
            "layout": "IPY_MODEL_df483f892ab04352afc5a662d7e7d820",
            "max": 313,
            "min": 0,
            "orientation": "horizontal",
            "style": "IPY_MODEL_1b6f6886359d469c98ac30c1c2881451",
            "value": 313
          }
        },
        "1b6f6886359d469c98ac30c1c2881451": {
          "model_module": "@jupyter-widgets/controls",
          "model_module_version": "1.5.0",
          "model_name": "ProgressStyleModel",
          "state": {
            "_model_module": "@jupyter-widgets/controls",
            "_model_module_version": "1.5.0",
            "_model_name": "ProgressStyleModel",
            "_view_count": null,
            "_view_module": "@jupyter-widgets/base",
            "_view_module_version": "1.2.0",
            "_view_name": "StyleView",
            "bar_color": null,
            "description_width": ""
          }
        },
        "1e3b97e03f414866a107062e9332c6a4": {
          "model_module": "@jupyter-widgets/controls",
          "model_module_version": "1.5.0",
          "model_name": "FloatProgressModel",
          "state": {
            "_dom_classes": [],
            "_model_module": "@jupyter-widgets/controls",
            "_model_module_version": "1.5.0",
            "_model_name": "FloatProgressModel",
            "_view_count": null,
            "_view_module": "@jupyter-widgets/controls",
            "_view_module_version": "1.5.0",
            "_view_name": "ProgressView",
            "bar_style": "success",
            "description": "",
            "description_tooltip": null,
            "layout": "IPY_MODEL_90f0193083cd4dcf91a8a208f173f2a6",
            "max": 20,
            "min": 0,
            "orientation": "horizontal",
            "style": "IPY_MODEL_065ee15db90f4d1d81d55c691add0b34",
            "value": 20
          }
        },
        "207252809f1f4b52a5a10b211398b67a": {
          "model_module": "@jupyter-widgets/controls",
          "model_module_version": "1.5.0",
          "model_name": "DescriptionStyleModel",
          "state": {
            "_model_module": "@jupyter-widgets/controls",
            "_model_module_version": "1.5.0",
            "_model_name": "DescriptionStyleModel",
            "_view_count": null,
            "_view_module": "@jupyter-widgets/base",
            "_view_module_version": "1.2.0",
            "_view_name": "StyleView",
            "description_width": ""
          }
        },
        "21be6287c0474103932f5851415fd1b6": {
          "model_module": "@jupyter-widgets/base",
          "model_module_version": "1.2.0",
          "model_name": "LayoutModel",
          "state": {
            "_model_module": "@jupyter-widgets/base",
            "_model_module_version": "1.2.0",
            "_model_name": "LayoutModel",
            "_view_count": null,
            "_view_module": "@jupyter-widgets/base",
            "_view_module_version": "1.2.0",
            "_view_name": "LayoutView",
            "align_content": null,
            "align_items": null,
            "align_self": null,
            "border": null,
            "bottom": null,
            "display": null,
            "flex": null,
            "flex_flow": null,
            "grid_area": null,
            "grid_auto_columns": null,
            "grid_auto_flow": null,
            "grid_auto_rows": null,
            "grid_column": null,
            "grid_gap": null,
            "grid_row": null,
            "grid_template_areas": null,
            "grid_template_columns": null,
            "grid_template_rows": null,
            "height": null,
            "justify_content": null,
            "justify_items": null,
            "left": null,
            "margin": null,
            "max_height": null,
            "max_width": null,
            "min_height": null,
            "min_width": null,
            "object_fit": null,
            "object_position": null,
            "order": null,
            "overflow": null,
            "overflow_x": null,
            "overflow_y": null,
            "padding": null,
            "right": null,
            "top": null,
            "visibility": null,
            "width": null
          }
        },
        "23fa03843eb44d02b7a7679b090dc55f": {
          "model_module": "@jupyter-widgets/controls",
          "model_module_version": "1.5.0",
          "model_name": "HBoxModel",
          "state": {
            "_dom_classes": [],
            "_model_module": "@jupyter-widgets/controls",
            "_model_module_version": "1.5.0",
            "_model_name": "HBoxModel",
            "_view_count": null,
            "_view_module": "@jupyter-widgets/controls",
            "_view_module_version": "1.5.0",
            "_view_name": "HBoxView",
            "box_style": "",
            "children": [
              "IPY_MODEL_8dad425e91044355a96da44133e0d6ec",
              "IPY_MODEL_97993989c324418b8fe69ad92b7fb1ba",
              "IPY_MODEL_6884793cc4c44c9f8036a10d15cdac5f"
            ],
            "layout": "IPY_MODEL_9afb0662dc1c464f8e442c574f52ed21"
          }
        },
        "24943e5263584a98a4807b0511a5fc61": {
          "model_module": "@jupyter-widgets/controls",
          "model_module_version": "1.5.0",
          "model_name": "DescriptionStyleModel",
          "state": {
            "_model_module": "@jupyter-widgets/controls",
            "_model_module_version": "1.5.0",
            "_model_name": "DescriptionStyleModel",
            "_view_count": null,
            "_view_module": "@jupyter-widgets/base",
            "_view_module_version": "1.2.0",
            "_view_name": "StyleView",
            "description_width": ""
          }
        },
        "29b058e5bac74d5a8dcc2b9367e89643": {
          "model_module": "@jupyter-widgets/base",
          "model_module_version": "1.2.0",
          "model_name": "LayoutModel",
          "state": {
            "_model_module": "@jupyter-widgets/base",
            "_model_module_version": "1.2.0",
            "_model_name": "LayoutModel",
            "_view_count": null,
            "_view_module": "@jupyter-widgets/base",
            "_view_module_version": "1.2.0",
            "_view_name": "LayoutView",
            "align_content": null,
            "align_items": null,
            "align_self": null,
            "border": null,
            "bottom": null,
            "display": null,
            "flex": null,
            "flex_flow": null,
            "grid_area": null,
            "grid_auto_columns": null,
            "grid_auto_flow": null,
            "grid_auto_rows": null,
            "grid_column": null,
            "grid_gap": null,
            "grid_row": null,
            "grid_template_areas": null,
            "grid_template_columns": null,
            "grid_template_rows": null,
            "height": null,
            "justify_content": null,
            "justify_items": null,
            "left": null,
            "margin": null,
            "max_height": null,
            "max_width": null,
            "min_height": null,
            "min_width": null,
            "object_fit": null,
            "object_position": null,
            "order": null,
            "overflow": null,
            "overflow_x": null,
            "overflow_y": null,
            "padding": null,
            "right": null,
            "top": null,
            "visibility": null,
            "width": null
          }
        },
        "3396df61ec0e444fa1c58cb86042e9e0": {
          "model_module": "@jupyter-widgets/base",
          "model_module_version": "1.2.0",
          "model_name": "LayoutModel",
          "state": {
            "_model_module": "@jupyter-widgets/base",
            "_model_module_version": "1.2.0",
            "_model_name": "LayoutModel",
            "_view_count": null,
            "_view_module": "@jupyter-widgets/base",
            "_view_module_version": "1.2.0",
            "_view_name": "LayoutView",
            "align_content": null,
            "align_items": null,
            "align_self": null,
            "border": null,
            "bottom": null,
            "display": null,
            "flex": null,
            "flex_flow": null,
            "grid_area": null,
            "grid_auto_columns": null,
            "grid_auto_flow": null,
            "grid_auto_rows": null,
            "grid_column": null,
            "grid_gap": null,
            "grid_row": null,
            "grid_template_areas": null,
            "grid_template_columns": null,
            "grid_template_rows": null,
            "height": null,
            "justify_content": null,
            "justify_items": null,
            "left": null,
            "margin": null,
            "max_height": null,
            "max_width": null,
            "min_height": null,
            "min_width": null,
            "object_fit": null,
            "object_position": null,
            "order": null,
            "overflow": null,
            "overflow_x": null,
            "overflow_y": null,
            "padding": null,
            "right": null,
            "top": null,
            "visibility": null,
            "width": null
          }
        },
        "39203e26c7374c9bafa145f1474fd08e": {
          "model_module": "@jupyter-widgets/controls",
          "model_module_version": "1.5.0",
          "model_name": "HBoxModel",
          "state": {
            "_dom_classes": [],
            "_model_module": "@jupyter-widgets/controls",
            "_model_module_version": "1.5.0",
            "_model_name": "HBoxModel",
            "_view_count": null,
            "_view_module": "@jupyter-widgets/controls",
            "_view_module_version": "1.5.0",
            "_view_name": "HBoxView",
            "box_style": "",
            "children": [
              "IPY_MODEL_5cfd2a89be3a40c38d3ad9bb4b78e6f2",
              "IPY_MODEL_19cc5ac5725047cdb8049f82786ae32c",
              "IPY_MODEL_816d018d64b44a199781f0e5c5b9ecf7"
            ],
            "layout": "IPY_MODEL_29b058e5bac74d5a8dcc2b9367e89643"
          }
        },
        "3bfa13e7a198465fb6fa6abb6aff6d36": {
          "model_module": "@jupyter-widgets/controls",
          "model_module_version": "1.5.0",
          "model_name": "DescriptionStyleModel",
          "state": {
            "_model_module": "@jupyter-widgets/controls",
            "_model_module_version": "1.5.0",
            "_model_name": "DescriptionStyleModel",
            "_view_count": null,
            "_view_module": "@jupyter-widgets/base",
            "_view_module_version": "1.2.0",
            "_view_name": "StyleView",
            "description_width": ""
          }
        },
        "41327583e9a544ccbadd81b35123574a": {
          "model_module": "@jupyter-widgets/base",
          "model_module_version": "1.2.0",
          "model_name": "LayoutModel",
          "state": {
            "_model_module": "@jupyter-widgets/base",
            "_model_module_version": "1.2.0",
            "_model_name": "LayoutModel",
            "_view_count": null,
            "_view_module": "@jupyter-widgets/base",
            "_view_module_version": "1.2.0",
            "_view_name": "LayoutView",
            "align_content": null,
            "align_items": null,
            "align_self": null,
            "border": null,
            "bottom": null,
            "display": null,
            "flex": null,
            "flex_flow": null,
            "grid_area": null,
            "grid_auto_columns": null,
            "grid_auto_flow": null,
            "grid_auto_rows": null,
            "grid_column": null,
            "grid_gap": null,
            "grid_row": null,
            "grid_template_areas": null,
            "grid_template_columns": null,
            "grid_template_rows": null,
            "height": null,
            "justify_content": null,
            "justify_items": null,
            "left": null,
            "margin": null,
            "max_height": null,
            "max_width": null,
            "min_height": null,
            "min_width": null,
            "object_fit": null,
            "object_position": null,
            "order": null,
            "overflow": null,
            "overflow_x": null,
            "overflow_y": null,
            "padding": null,
            "right": null,
            "top": null,
            "visibility": null,
            "width": null
          }
        },
        "486106d46b504a65a9a15d5ac81d532a": {
          "model_module": "@jupyter-widgets/base",
          "model_module_version": "1.2.0",
          "model_name": "LayoutModel",
          "state": {
            "_model_module": "@jupyter-widgets/base",
            "_model_module_version": "1.2.0",
            "_model_name": "LayoutModel",
            "_view_count": null,
            "_view_module": "@jupyter-widgets/base",
            "_view_module_version": "1.2.0",
            "_view_name": "LayoutView",
            "align_content": null,
            "align_items": null,
            "align_self": null,
            "border": null,
            "bottom": null,
            "display": null,
            "flex": null,
            "flex_flow": null,
            "grid_area": null,
            "grid_auto_columns": null,
            "grid_auto_flow": null,
            "grid_auto_rows": null,
            "grid_column": null,
            "grid_gap": null,
            "grid_row": null,
            "grid_template_areas": null,
            "grid_template_columns": null,
            "grid_template_rows": null,
            "height": null,
            "justify_content": null,
            "justify_items": null,
            "left": null,
            "margin": null,
            "max_height": null,
            "max_width": null,
            "min_height": null,
            "min_width": null,
            "object_fit": null,
            "object_position": null,
            "order": null,
            "overflow": null,
            "overflow_x": null,
            "overflow_y": null,
            "padding": null,
            "right": null,
            "top": null,
            "visibility": null,
            "width": null
          }
        },
        "4bb6d259de874661990f3759ece33ae2": {
          "model_module": "@jupyter-widgets/base",
          "model_module_version": "1.2.0",
          "model_name": "LayoutModel",
          "state": {
            "_model_module": "@jupyter-widgets/base",
            "_model_module_version": "1.2.0",
            "_model_name": "LayoutModel",
            "_view_count": null,
            "_view_module": "@jupyter-widgets/base",
            "_view_module_version": "1.2.0",
            "_view_name": "LayoutView",
            "align_content": null,
            "align_items": null,
            "align_self": null,
            "border": null,
            "bottom": null,
            "display": null,
            "flex": null,
            "flex_flow": null,
            "grid_area": null,
            "grid_auto_columns": null,
            "grid_auto_flow": null,
            "grid_auto_rows": null,
            "grid_column": null,
            "grid_gap": null,
            "grid_row": null,
            "grid_template_areas": null,
            "grid_template_columns": null,
            "grid_template_rows": null,
            "height": null,
            "justify_content": null,
            "justify_items": null,
            "left": null,
            "margin": null,
            "max_height": null,
            "max_width": null,
            "min_height": null,
            "min_width": null,
            "object_fit": null,
            "object_position": null,
            "order": null,
            "overflow": null,
            "overflow_x": null,
            "overflow_y": null,
            "padding": null,
            "right": null,
            "top": null,
            "visibility": null,
            "width": null
          }
        },
        "5773d15c9feb48a9ba3d7d945ebc9c29": {
          "model_module": "@jupyter-widgets/controls",
          "model_module_version": "1.5.0",
          "model_name": "HBoxModel",
          "state": {
            "_dom_classes": [],
            "_model_module": "@jupyter-widgets/controls",
            "_model_module_version": "1.5.0",
            "_model_name": "HBoxModel",
            "_view_count": null,
            "_view_module": "@jupyter-widgets/controls",
            "_view_module_version": "1.5.0",
            "_view_name": "HBoxView",
            "box_style": "",
            "children": [
              "IPY_MODEL_b76ab604e6354af499ad2c08dc50ef78",
              "IPY_MODEL_c6c9e339713c4d0a9952713798a987ea",
              "IPY_MODEL_b70723af7bb94d4f9dc58621bacdffdc"
            ],
            "layout": "IPY_MODEL_3396df61ec0e444fa1c58cb86042e9e0"
          }
        },
        "5cfd2a89be3a40c38d3ad9bb4b78e6f2": {
          "model_module": "@jupyter-widgets/controls",
          "model_module_version": "1.5.0",
          "model_name": "HTMLModel",
          "state": {
            "_dom_classes": [],
            "_model_module": "@jupyter-widgets/controls",
            "_model_module_version": "1.5.0",
            "_model_name": "HTMLModel",
            "_view_count": null,
            "_view_module": "@jupyter-widgets/controls",
            "_view_module_version": "1.5.0",
            "_view_name": "HTMLView",
            "description": "",
            "description_tooltip": null,
            "layout": "IPY_MODEL_41327583e9a544ccbadd81b35123574a",
            "placeholder": "​",
            "style": "IPY_MODEL_207252809f1f4b52a5a10b211398b67a",
            "value": "Making predictions: 100%"
          }
        },
        "6884793cc4c44c9f8036a10d15cdac5f": {
          "model_module": "@jupyter-widgets/controls",
          "model_module_version": "1.5.0",
          "model_name": "HTMLModel",
          "state": {
            "_dom_classes": [],
            "_model_module": "@jupyter-widgets/controls",
            "_model_module_version": "1.5.0",
            "_model_name": "HTMLModel",
            "_view_count": null,
            "_view_module": "@jupyter-widgets/controls",
            "_view_module_version": "1.5.0",
            "_view_name": "HTMLView",
            "description": "",
            "description_tooltip": null,
            "layout": "IPY_MODEL_0dced1e5f027496eb159d38adde2e565",
            "placeholder": "​",
            "style": "IPY_MODEL_3bfa13e7a198465fb6fa6abb6aff6d36",
            "value": " 313/313 [00:01&lt;00:00, 249.34it/s]"
          }
        },
        "76f8f888a2a14b9484dd5b04d9f2c9c5": {
          "model_module": "@jupyter-widgets/base",
          "model_module_version": "1.2.0",
          "model_name": "LayoutModel",
          "state": {
            "_model_module": "@jupyter-widgets/base",
            "_model_module_version": "1.2.0",
            "_model_name": "LayoutModel",
            "_view_count": null,
            "_view_module": "@jupyter-widgets/base",
            "_view_module_version": "1.2.0",
            "_view_name": "LayoutView",
            "align_content": null,
            "align_items": null,
            "align_self": null,
            "border": null,
            "bottom": null,
            "display": null,
            "flex": null,
            "flex_flow": null,
            "grid_area": null,
            "grid_auto_columns": null,
            "grid_auto_flow": null,
            "grid_auto_rows": null,
            "grid_column": null,
            "grid_gap": null,
            "grid_row": null,
            "grid_template_areas": null,
            "grid_template_columns": null,
            "grid_template_rows": null,
            "height": null,
            "justify_content": null,
            "justify_items": null,
            "left": null,
            "margin": null,
            "max_height": null,
            "max_width": null,
            "min_height": null,
            "min_width": null,
            "object_fit": null,
            "object_position": null,
            "order": null,
            "overflow": null,
            "overflow_x": null,
            "overflow_y": null,
            "padding": null,
            "right": null,
            "top": null,
            "visibility": null,
            "width": null
          }
        },
        "816d018d64b44a199781f0e5c5b9ecf7": {
          "model_module": "@jupyter-widgets/controls",
          "model_module_version": "1.5.0",
          "model_name": "HTMLModel",
          "state": {
            "_dom_classes": [],
            "_model_module": "@jupyter-widgets/controls",
            "_model_module_version": "1.5.0",
            "_model_name": "HTMLModel",
            "_view_count": null,
            "_view_module": "@jupyter-widgets/controls",
            "_view_module_version": "1.5.0",
            "_view_name": "HTMLView",
            "description": "",
            "description_tooltip": null,
            "layout": "IPY_MODEL_17dc0d4a300341b89af4e5aa09fdb4e5",
            "placeholder": "​",
            "style": "IPY_MODEL_ba810bdf8c2a4b4fa0f647f9647d9302",
            "value": " 313/313 [00:01&lt;00:00, 177.27it/s]"
          }
        },
        "8dad425e91044355a96da44133e0d6ec": {
          "model_module": "@jupyter-widgets/controls",
          "model_module_version": "1.5.0",
          "model_name": "HTMLModel",
          "state": {
            "_dom_classes": [],
            "_model_module": "@jupyter-widgets/controls",
            "_model_module_version": "1.5.0",
            "_model_name": "HTMLModel",
            "_view_count": null,
            "_view_module": "@jupyter-widgets/controls",
            "_view_module_version": "1.5.0",
            "_view_name": "HTMLView",
            "description": "",
            "description_tooltip": null,
            "layout": "IPY_MODEL_21be6287c0474103932f5851415fd1b6",
            "placeholder": "​",
            "style": "IPY_MODEL_0fdeb4341b6f48629397415af5a213f1",
            "value": "Making predictions: 100%"
          }
        },
        "90f0193083cd4dcf91a8a208f173f2a6": {
          "model_module": "@jupyter-widgets/base",
          "model_module_version": "1.2.0",
          "model_name": "LayoutModel",
          "state": {
            "_model_module": "@jupyter-widgets/base",
            "_model_module_version": "1.2.0",
            "_model_name": "LayoutModel",
            "_view_count": null,
            "_view_module": "@jupyter-widgets/base",
            "_view_module_version": "1.2.0",
            "_view_name": "LayoutView",
            "align_content": null,
            "align_items": null,
            "align_self": null,
            "border": null,
            "bottom": null,
            "display": null,
            "flex": null,
            "flex_flow": null,
            "grid_area": null,
            "grid_auto_columns": null,
            "grid_auto_flow": null,
            "grid_auto_rows": null,
            "grid_column": null,
            "grid_gap": null,
            "grid_row": null,
            "grid_template_areas": null,
            "grid_template_columns": null,
            "grid_template_rows": null,
            "height": null,
            "justify_content": null,
            "justify_items": null,
            "left": null,
            "margin": null,
            "max_height": null,
            "max_width": null,
            "min_height": null,
            "min_width": null,
            "object_fit": null,
            "object_position": null,
            "order": null,
            "overflow": null,
            "overflow_x": null,
            "overflow_y": null,
            "padding": null,
            "right": null,
            "top": null,
            "visibility": null,
            "width": null
          }
        },
        "97993989c324418b8fe69ad92b7fb1ba": {
          "model_module": "@jupyter-widgets/controls",
          "model_module_version": "1.5.0",
          "model_name": "FloatProgressModel",
          "state": {
            "_dom_classes": [],
            "_model_module": "@jupyter-widgets/controls",
            "_model_module_version": "1.5.0",
            "_model_name": "FloatProgressModel",
            "_view_count": null,
            "_view_module": "@jupyter-widgets/controls",
            "_view_module_version": "1.5.0",
            "_view_name": "ProgressView",
            "bar_style": "success",
            "description": "",
            "description_tooltip": null,
            "layout": "IPY_MODEL_76f8f888a2a14b9484dd5b04d9f2c9c5",
            "max": 313,
            "min": 0,
            "orientation": "horizontal",
            "style": "IPY_MODEL_9d95a80e5d9840b19563eba7ee7f04c1",
            "value": 313
          }
        },
        "9afb0662dc1c464f8e442c574f52ed21": {
          "model_module": "@jupyter-widgets/base",
          "model_module_version": "1.2.0",
          "model_name": "LayoutModel",
          "state": {
            "_model_module": "@jupyter-widgets/base",
            "_model_module_version": "1.2.0",
            "_model_name": "LayoutModel",
            "_view_count": null,
            "_view_module": "@jupyter-widgets/base",
            "_view_module_version": "1.2.0",
            "_view_name": "LayoutView",
            "align_content": null,
            "align_items": null,
            "align_self": null,
            "border": null,
            "bottom": null,
            "display": null,
            "flex": null,
            "flex_flow": null,
            "grid_area": null,
            "grid_auto_columns": null,
            "grid_auto_flow": null,
            "grid_auto_rows": null,
            "grid_column": null,
            "grid_gap": null,
            "grid_row": null,
            "grid_template_areas": null,
            "grid_template_columns": null,
            "grid_template_rows": null,
            "height": null,
            "justify_content": null,
            "justify_items": null,
            "left": null,
            "margin": null,
            "max_height": null,
            "max_width": null,
            "min_height": null,
            "min_width": null,
            "object_fit": null,
            "object_position": null,
            "order": null,
            "overflow": null,
            "overflow_x": null,
            "overflow_y": null,
            "padding": null,
            "right": null,
            "top": null,
            "visibility": null,
            "width": null
          }
        },
        "9d95a80e5d9840b19563eba7ee7f04c1": {
          "model_module": "@jupyter-widgets/controls",
          "model_module_version": "1.5.0",
          "model_name": "ProgressStyleModel",
          "state": {
            "_model_module": "@jupyter-widgets/controls",
            "_model_module_version": "1.5.0",
            "_model_name": "ProgressStyleModel",
            "_view_count": null,
            "_view_module": "@jupyter-widgets/base",
            "_view_module_version": "1.2.0",
            "_view_name": "StyleView",
            "bar_color": null,
            "description_width": ""
          }
        },
        "a111b10c4a6c4db2a3166b5b40f1cbc6": {
          "model_module": "@jupyter-widgets/base",
          "model_module_version": "1.2.0",
          "model_name": "LayoutModel",
          "state": {
            "_model_module": "@jupyter-widgets/base",
            "_model_module_version": "1.2.0",
            "_model_name": "LayoutModel",
            "_view_count": null,
            "_view_module": "@jupyter-widgets/base",
            "_view_module_version": "1.2.0",
            "_view_name": "LayoutView",
            "align_content": null,
            "align_items": null,
            "align_self": null,
            "border": null,
            "bottom": null,
            "display": null,
            "flex": null,
            "flex_flow": null,
            "grid_area": null,
            "grid_auto_columns": null,
            "grid_auto_flow": null,
            "grid_auto_rows": null,
            "grid_column": null,
            "grid_gap": null,
            "grid_row": null,
            "grid_template_areas": null,
            "grid_template_columns": null,
            "grid_template_rows": null,
            "height": null,
            "justify_content": null,
            "justify_items": null,
            "left": null,
            "margin": null,
            "max_height": null,
            "max_width": null,
            "min_height": null,
            "min_width": null,
            "object_fit": null,
            "object_position": null,
            "order": null,
            "overflow": null,
            "overflow_x": null,
            "overflow_y": null,
            "padding": null,
            "right": null,
            "top": null,
            "visibility": null,
            "width": null
          }
        },
        "b0ab55d5b2494e66b9d517464d7cacd0": {
          "model_module": "@jupyter-widgets/controls",
          "model_module_version": "1.5.0",
          "model_name": "DescriptionStyleModel",
          "state": {
            "_model_module": "@jupyter-widgets/controls",
            "_model_module_version": "1.5.0",
            "_model_name": "DescriptionStyleModel",
            "_view_count": null,
            "_view_module": "@jupyter-widgets/base",
            "_view_module_version": "1.2.0",
            "_view_name": "StyleView",
            "description_width": ""
          }
        },
        "b70723af7bb94d4f9dc58621bacdffdc": {
          "model_module": "@jupyter-widgets/controls",
          "model_module_version": "1.5.0",
          "model_name": "HTMLModel",
          "state": {
            "_dom_classes": [],
            "_model_module": "@jupyter-widgets/controls",
            "_model_module_version": "1.5.0",
            "_model_name": "HTMLModel",
            "_view_count": null,
            "_view_module": "@jupyter-widgets/controls",
            "_view_module_version": "1.5.0",
            "_view_name": "HTMLView",
            "description": "",
            "description_tooltip": null,
            "layout": "IPY_MODEL_4bb6d259de874661990f3759ece33ae2",
            "placeholder": "​",
            "style": "IPY_MODEL_24943e5263584a98a4807b0511a5fc61",
            "value": " 20/20 [04:32&lt;00:00, 13.58s/it]"
          }
        },
        "b76ab604e6354af499ad2c08dc50ef78": {
          "model_module": "@jupyter-widgets/controls",
          "model_module_version": "1.5.0",
          "model_name": "HTMLModel",
          "state": {
            "_dom_classes": [],
            "_model_module": "@jupyter-widgets/controls",
            "_model_module_version": "1.5.0",
            "_model_name": "HTMLModel",
            "_view_count": null,
            "_view_module": "@jupyter-widgets/controls",
            "_view_module_version": "1.5.0",
            "_view_name": "HTMLView",
            "description": "",
            "description_tooltip": null,
            "layout": "IPY_MODEL_ebff55db75be4520bfaa551724c27eda",
            "placeholder": "​",
            "style": "IPY_MODEL_08e75eb78e0a4c2091c46d6709be63b7",
            "value": "100%"
          }
        },
        "ba810bdf8c2a4b4fa0f647f9647d9302": {
          "model_module": "@jupyter-widgets/controls",
          "model_module_version": "1.5.0",
          "model_name": "DescriptionStyleModel",
          "state": {
            "_model_module": "@jupyter-widgets/controls",
            "_model_module_version": "1.5.0",
            "_model_name": "DescriptionStyleModel",
            "_view_count": null,
            "_view_module": "@jupyter-widgets/base",
            "_view_module_version": "1.2.0",
            "_view_name": "StyleView",
            "description_width": ""
          }
        },
        "c6c9e339713c4d0a9952713798a987ea": {
          "model_module": "@jupyter-widgets/controls",
          "model_module_version": "1.5.0",
          "model_name": "FloatProgressModel",
          "state": {
            "_dom_classes": [],
            "_model_module": "@jupyter-widgets/controls",
            "_model_module_version": "1.5.0",
            "_model_name": "FloatProgressModel",
            "_view_count": null,
            "_view_module": "@jupyter-widgets/controls",
            "_view_module_version": "1.5.0",
            "_view_name": "ProgressView",
            "bar_style": "success",
            "description": "",
            "description_tooltip": null,
            "layout": "IPY_MODEL_e89f07cdaaff4d49a8f753db7abc5b66",
            "max": 20,
            "min": 0,
            "orientation": "horizontal",
            "style": "IPY_MODEL_ef4dc33ed3324c0ebcf985448e32f823",
            "value": 20
          }
        },
        "df483f892ab04352afc5a662d7e7d820": {
          "model_module": "@jupyter-widgets/base",
          "model_module_version": "1.2.0",
          "model_name": "LayoutModel",
          "state": {
            "_model_module": "@jupyter-widgets/base",
            "_model_module_version": "1.2.0",
            "_model_name": "LayoutModel",
            "_view_count": null,
            "_view_module": "@jupyter-widgets/base",
            "_view_module_version": "1.2.0",
            "_view_name": "LayoutView",
            "align_content": null,
            "align_items": null,
            "align_self": null,
            "border": null,
            "bottom": null,
            "display": null,
            "flex": null,
            "flex_flow": null,
            "grid_area": null,
            "grid_auto_columns": null,
            "grid_auto_flow": null,
            "grid_auto_rows": null,
            "grid_column": null,
            "grid_gap": null,
            "grid_row": null,
            "grid_template_areas": null,
            "grid_template_columns": null,
            "grid_template_rows": null,
            "height": null,
            "justify_content": null,
            "justify_items": null,
            "left": null,
            "margin": null,
            "max_height": null,
            "max_width": null,
            "min_height": null,
            "min_width": null,
            "object_fit": null,
            "object_position": null,
            "order": null,
            "overflow": null,
            "overflow_x": null,
            "overflow_y": null,
            "padding": null,
            "right": null,
            "top": null,
            "visibility": null,
            "width": null
          }
        },
        "e6eb9502b28449f5b255135e6189742a": {
          "model_module": "@jupyter-widgets/controls",
          "model_module_version": "1.5.0",
          "model_name": "HTMLModel",
          "state": {
            "_dom_classes": [],
            "_model_module": "@jupyter-widgets/controls",
            "_model_module_version": "1.5.0",
            "_model_name": "HTMLModel",
            "_view_count": null,
            "_view_module": "@jupyter-widgets/controls",
            "_view_module_version": "1.5.0",
            "_view_name": "HTMLView",
            "description": "",
            "description_tooltip": null,
            "layout": "IPY_MODEL_092b2fa1701341d1be69670c3cb77772",
            "placeholder": "​",
            "style": "IPY_MODEL_0924cce92ff94672a22d7bc1c62d600f",
            "value": " 20/20 [03:31&lt;00:00, 10.53s/it]"
          }
        },
        "e89f07cdaaff4d49a8f753db7abc5b66": {
          "model_module": "@jupyter-widgets/base",
          "model_module_version": "1.2.0",
          "model_name": "LayoutModel",
          "state": {
            "_model_module": "@jupyter-widgets/base",
            "_model_module_version": "1.2.0",
            "_model_name": "LayoutModel",
            "_view_count": null,
            "_view_module": "@jupyter-widgets/base",
            "_view_module_version": "1.2.0",
            "_view_name": "LayoutView",
            "align_content": null,
            "align_items": null,
            "align_self": null,
            "border": null,
            "bottom": null,
            "display": null,
            "flex": null,
            "flex_flow": null,
            "grid_area": null,
            "grid_auto_columns": null,
            "grid_auto_flow": null,
            "grid_auto_rows": null,
            "grid_column": null,
            "grid_gap": null,
            "grid_row": null,
            "grid_template_areas": null,
            "grid_template_columns": null,
            "grid_template_rows": null,
            "height": null,
            "justify_content": null,
            "justify_items": null,
            "left": null,
            "margin": null,
            "max_height": null,
            "max_width": null,
            "min_height": null,
            "min_width": null,
            "object_fit": null,
            "object_position": null,
            "order": null,
            "overflow": null,
            "overflow_x": null,
            "overflow_y": null,
            "padding": null,
            "right": null,
            "top": null,
            "visibility": null,
            "width": null
          }
        },
        "ebff55db75be4520bfaa551724c27eda": {
          "model_module": "@jupyter-widgets/base",
          "model_module_version": "1.2.0",
          "model_name": "LayoutModel",
          "state": {
            "_model_module": "@jupyter-widgets/base",
            "_model_module_version": "1.2.0",
            "_model_name": "LayoutModel",
            "_view_count": null,
            "_view_module": "@jupyter-widgets/base",
            "_view_module_version": "1.2.0",
            "_view_name": "LayoutView",
            "align_content": null,
            "align_items": null,
            "align_self": null,
            "border": null,
            "bottom": null,
            "display": null,
            "flex": null,
            "flex_flow": null,
            "grid_area": null,
            "grid_auto_columns": null,
            "grid_auto_flow": null,
            "grid_auto_rows": null,
            "grid_column": null,
            "grid_gap": null,
            "grid_row": null,
            "grid_template_areas": null,
            "grid_template_columns": null,
            "grid_template_rows": null,
            "height": null,
            "justify_content": null,
            "justify_items": null,
            "left": null,
            "margin": null,
            "max_height": null,
            "max_width": null,
            "min_height": null,
            "min_width": null,
            "object_fit": null,
            "object_position": null,
            "order": null,
            "overflow": null,
            "overflow_x": null,
            "overflow_y": null,
            "padding": null,
            "right": null,
            "top": null,
            "visibility": null,
            "width": null
          }
        },
        "ef4dc33ed3324c0ebcf985448e32f823": {
          "model_module": "@jupyter-widgets/controls",
          "model_module_version": "1.5.0",
          "model_name": "ProgressStyleModel",
          "state": {
            "_model_module": "@jupyter-widgets/controls",
            "_model_module_version": "1.5.0",
            "_model_name": "ProgressStyleModel",
            "_view_count": null,
            "_view_module": "@jupyter-widgets/base",
            "_view_module_version": "1.2.0",
            "_view_name": "StyleView",
            "bar_color": null,
            "description_width": ""
          }
        },
        "fc0dd93c0a67480b8a497bacf4874b3b": {
          "model_module": "@jupyter-widgets/controls",
          "model_module_version": "1.5.0",
          "model_name": "HBoxModel",
          "state": {
            "_dom_classes": [],
            "_model_module": "@jupyter-widgets/controls",
            "_model_module_version": "1.5.0",
            "_model_name": "HBoxModel",
            "_view_count": null,
            "_view_module": "@jupyter-widgets/controls",
            "_view_module_version": "1.5.0",
            "_view_name": "HBoxView",
            "box_style": "",
            "children": [
              "IPY_MODEL_0faa700c156f4d7180e95e589a5f2293",
              "IPY_MODEL_1e3b97e03f414866a107062e9332c6a4",
              "IPY_MODEL_e6eb9502b28449f5b255135e6189742a"
            ],
            "layout": "IPY_MODEL_486106d46b504a65a9a15d5ac81d532a"
          }
        }
      }
    }
  },
  "nbformat": 4,
  "nbformat_minor": 0
}
